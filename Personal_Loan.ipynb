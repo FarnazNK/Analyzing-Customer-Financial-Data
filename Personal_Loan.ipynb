{
  "nbformat": 4,
  "nbformat_minor": 0,
  "metadata": {
    "colab": {
      "provenance": []
    },
    "kernelspec": {
      "name": "python3",
      "display_name": "Python 3"
    },
    "language_info": {
      "name": "python"
    }
  },
  "cells": [
    {
      "cell_type": "code",
      "execution_count": null,
      "metadata": {
        "id": "VHTg7v-8PKtL"
      },
      "outputs": [],
      "source": [
        "import pandas as pd\n",
        "import matplotlib.pyplot as plt\n",
        "import seaborn as sns  \n",
        "import numpy as np"
      ]
    },
    {
      "cell_type": "markdown",
      "source": [
        "**Creating Dataframes**"
      ],
      "metadata": {
        "id": "PjTsh1kXPfbD"
      }
    },
    {
      "cell_type": "code",
      "source": [
        "df = pd.read_csv('Bank_Personal_Loan_Modelling.csv')\n",
        "df.head(10)"
      ],
      "metadata": {
        "colab": {
          "base_uri": "https://localhost:8080/",
          "height": 363
        },
        "id": "DfP4RgehPfwT",
        "outputId": "5344f0fb-d24d-4bd9-d08f-e0fa7b6d8462"
      },
      "execution_count": null,
      "outputs": [
        {
          "output_type": "execute_result",
          "data": {
            "text/plain": [
              "   ID  Age  Experience  Income  ZIP Code  Family  CCAvg  Education  Mortgage  \\\n",
              "0   1   25           1      49     91107       4    1.6          1         0   \n",
              "1   2   45          19      34     90089       3    1.5          1         0   \n",
              "2   3   39          15      11     94720       1    1.0          1         0   \n",
              "3   4   35           9     100     94112       1    2.7          2         0   \n",
              "4   5   35           8      45     91330       4    1.0          2         0   \n",
              "5   6   37          13      29     92121       4    0.4          2       155   \n",
              "6   7   53          27      72     91711       2    1.5          2         0   \n",
              "7   8   50          24      22     93943       1    0.3          3         0   \n",
              "8   9   35          10      81     90089       3    0.6          2       104   \n",
              "9  10   34           9     180     93023       1    8.9          3         0   \n",
              "\n",
              "   Personal Loan  Securities Account  CD Account  Online  CreditCard  \n",
              "0              0                   1           0       0           0  \n",
              "1              0                   1           0       0           0  \n",
              "2              0                   0           0       0           0  \n",
              "3              0                   0           0       0           0  \n",
              "4              0                   0           0       0           1  \n",
              "5              0                   0           0       1           0  \n",
              "6              0                   0           0       1           0  \n",
              "7              0                   0           0       0           1  \n",
              "8              0                   0           0       1           0  \n",
              "9              1                   0           0       0           0  "
            ],
            "text/html": [
              "\n",
              "  <div id=\"df-a4bf435d-7115-405f-b480-3a4667715c48\">\n",
              "    <div class=\"colab-df-container\">\n",
              "      <div>\n",
              "<style scoped>\n",
              "    .dataframe tbody tr th:only-of-type {\n",
              "        vertical-align: middle;\n",
              "    }\n",
              "\n",
              "    .dataframe tbody tr th {\n",
              "        vertical-align: top;\n",
              "    }\n",
              "\n",
              "    .dataframe thead th {\n",
              "        text-align: right;\n",
              "    }\n",
              "</style>\n",
              "<table border=\"1\" class=\"dataframe\">\n",
              "  <thead>\n",
              "    <tr style=\"text-align: right;\">\n",
              "      <th></th>\n",
              "      <th>ID</th>\n",
              "      <th>Age</th>\n",
              "      <th>Experience</th>\n",
              "      <th>Income</th>\n",
              "      <th>ZIP Code</th>\n",
              "      <th>Family</th>\n",
              "      <th>CCAvg</th>\n",
              "      <th>Education</th>\n",
              "      <th>Mortgage</th>\n",
              "      <th>Personal Loan</th>\n",
              "      <th>Securities Account</th>\n",
              "      <th>CD Account</th>\n",
              "      <th>Online</th>\n",
              "      <th>CreditCard</th>\n",
              "    </tr>\n",
              "  </thead>\n",
              "  <tbody>\n",
              "    <tr>\n",
              "      <th>0</th>\n",
              "      <td>1</td>\n",
              "      <td>25</td>\n",
              "      <td>1</td>\n",
              "      <td>49</td>\n",
              "      <td>91107</td>\n",
              "      <td>4</td>\n",
              "      <td>1.6</td>\n",
              "      <td>1</td>\n",
              "      <td>0</td>\n",
              "      <td>0</td>\n",
              "      <td>1</td>\n",
              "      <td>0</td>\n",
              "      <td>0</td>\n",
              "      <td>0</td>\n",
              "    </tr>\n",
              "    <tr>\n",
              "      <th>1</th>\n",
              "      <td>2</td>\n",
              "      <td>45</td>\n",
              "      <td>19</td>\n",
              "      <td>34</td>\n",
              "      <td>90089</td>\n",
              "      <td>3</td>\n",
              "      <td>1.5</td>\n",
              "      <td>1</td>\n",
              "      <td>0</td>\n",
              "      <td>0</td>\n",
              "      <td>1</td>\n",
              "      <td>0</td>\n",
              "      <td>0</td>\n",
              "      <td>0</td>\n",
              "    </tr>\n",
              "    <tr>\n",
              "      <th>2</th>\n",
              "      <td>3</td>\n",
              "      <td>39</td>\n",
              "      <td>15</td>\n",
              "      <td>11</td>\n",
              "      <td>94720</td>\n",
              "      <td>1</td>\n",
              "      <td>1.0</td>\n",
              "      <td>1</td>\n",
              "      <td>0</td>\n",
              "      <td>0</td>\n",
              "      <td>0</td>\n",
              "      <td>0</td>\n",
              "      <td>0</td>\n",
              "      <td>0</td>\n",
              "    </tr>\n",
              "    <tr>\n",
              "      <th>3</th>\n",
              "      <td>4</td>\n",
              "      <td>35</td>\n",
              "      <td>9</td>\n",
              "      <td>100</td>\n",
              "      <td>94112</td>\n",
              "      <td>1</td>\n",
              "      <td>2.7</td>\n",
              "      <td>2</td>\n",
              "      <td>0</td>\n",
              "      <td>0</td>\n",
              "      <td>0</td>\n",
              "      <td>0</td>\n",
              "      <td>0</td>\n",
              "      <td>0</td>\n",
              "    </tr>\n",
              "    <tr>\n",
              "      <th>4</th>\n",
              "      <td>5</td>\n",
              "      <td>35</td>\n",
              "      <td>8</td>\n",
              "      <td>45</td>\n",
              "      <td>91330</td>\n",
              "      <td>4</td>\n",
              "      <td>1.0</td>\n",
              "      <td>2</td>\n",
              "      <td>0</td>\n",
              "      <td>0</td>\n",
              "      <td>0</td>\n",
              "      <td>0</td>\n",
              "      <td>0</td>\n",
              "      <td>1</td>\n",
              "    </tr>\n",
              "    <tr>\n",
              "      <th>5</th>\n",
              "      <td>6</td>\n",
              "      <td>37</td>\n",
              "      <td>13</td>\n",
              "      <td>29</td>\n",
              "      <td>92121</td>\n",
              "      <td>4</td>\n",
              "      <td>0.4</td>\n",
              "      <td>2</td>\n",
              "      <td>155</td>\n",
              "      <td>0</td>\n",
              "      <td>0</td>\n",
              "      <td>0</td>\n",
              "      <td>1</td>\n",
              "      <td>0</td>\n",
              "    </tr>\n",
              "    <tr>\n",
              "      <th>6</th>\n",
              "      <td>7</td>\n",
              "      <td>53</td>\n",
              "      <td>27</td>\n",
              "      <td>72</td>\n",
              "      <td>91711</td>\n",
              "      <td>2</td>\n",
              "      <td>1.5</td>\n",
              "      <td>2</td>\n",
              "      <td>0</td>\n",
              "      <td>0</td>\n",
              "      <td>0</td>\n",
              "      <td>0</td>\n",
              "      <td>1</td>\n",
              "      <td>0</td>\n",
              "    </tr>\n",
              "    <tr>\n",
              "      <th>7</th>\n",
              "      <td>8</td>\n",
              "      <td>50</td>\n",
              "      <td>24</td>\n",
              "      <td>22</td>\n",
              "      <td>93943</td>\n",
              "      <td>1</td>\n",
              "      <td>0.3</td>\n",
              "      <td>3</td>\n",
              "      <td>0</td>\n",
              "      <td>0</td>\n",
              "      <td>0</td>\n",
              "      <td>0</td>\n",
              "      <td>0</td>\n",
              "      <td>1</td>\n",
              "    </tr>\n",
              "    <tr>\n",
              "      <th>8</th>\n",
              "      <td>9</td>\n",
              "      <td>35</td>\n",
              "      <td>10</td>\n",
              "      <td>81</td>\n",
              "      <td>90089</td>\n",
              "      <td>3</td>\n",
              "      <td>0.6</td>\n",
              "      <td>2</td>\n",
              "      <td>104</td>\n",
              "      <td>0</td>\n",
              "      <td>0</td>\n",
              "      <td>0</td>\n",
              "      <td>1</td>\n",
              "      <td>0</td>\n",
              "    </tr>\n",
              "    <tr>\n",
              "      <th>9</th>\n",
              "      <td>10</td>\n",
              "      <td>34</td>\n",
              "      <td>9</td>\n",
              "      <td>180</td>\n",
              "      <td>93023</td>\n",
              "      <td>1</td>\n",
              "      <td>8.9</td>\n",
              "      <td>3</td>\n",
              "      <td>0</td>\n",
              "      <td>1</td>\n",
              "      <td>0</td>\n",
              "      <td>0</td>\n",
              "      <td>0</td>\n",
              "      <td>0</td>\n",
              "    </tr>\n",
              "  </tbody>\n",
              "</table>\n",
              "</div>\n",
              "      <button class=\"colab-df-convert\" onclick=\"convertToInteractive('df-a4bf435d-7115-405f-b480-3a4667715c48')\"\n",
              "              title=\"Convert this dataframe to an interactive table.\"\n",
              "              style=\"display:none;\">\n",
              "        \n",
              "  <svg xmlns=\"http://www.w3.org/2000/svg\" height=\"24px\"viewBox=\"0 0 24 24\"\n",
              "       width=\"24px\">\n",
              "    <path d=\"M0 0h24v24H0V0z\" fill=\"none\"/>\n",
              "    <path d=\"M18.56 5.44l.94 2.06.94-2.06 2.06-.94-2.06-.94-.94-2.06-.94 2.06-2.06.94zm-11 1L8.5 8.5l.94-2.06 2.06-.94-2.06-.94L8.5 2.5l-.94 2.06-2.06.94zm10 10l.94 2.06.94-2.06 2.06-.94-2.06-.94-.94-2.06-.94 2.06-2.06.94z\"/><path d=\"M17.41 7.96l-1.37-1.37c-.4-.4-.92-.59-1.43-.59-.52 0-1.04.2-1.43.59L10.3 9.45l-7.72 7.72c-.78.78-.78 2.05 0 2.83L4 21.41c.39.39.9.59 1.41.59.51 0 1.02-.2 1.41-.59l7.78-7.78 2.81-2.81c.8-.78.8-2.07 0-2.86zM5.41 20L4 18.59l7.72-7.72 1.47 1.35L5.41 20z\"/>\n",
              "  </svg>\n",
              "      </button>\n",
              "      \n",
              "  <style>\n",
              "    .colab-df-container {\n",
              "      display:flex;\n",
              "      flex-wrap:wrap;\n",
              "      gap: 12px;\n",
              "    }\n",
              "\n",
              "    .colab-df-convert {\n",
              "      background-color: #E8F0FE;\n",
              "      border: none;\n",
              "      border-radius: 50%;\n",
              "      cursor: pointer;\n",
              "      display: none;\n",
              "      fill: #1967D2;\n",
              "      height: 32px;\n",
              "      padding: 0 0 0 0;\n",
              "      width: 32px;\n",
              "    }\n",
              "\n",
              "    .colab-df-convert:hover {\n",
              "      background-color: #E2EBFA;\n",
              "      box-shadow: 0px 1px 2px rgba(60, 64, 67, 0.3), 0px 1px 3px 1px rgba(60, 64, 67, 0.15);\n",
              "      fill: #174EA6;\n",
              "    }\n",
              "\n",
              "    [theme=dark] .colab-df-convert {\n",
              "      background-color: #3B4455;\n",
              "      fill: #D2E3FC;\n",
              "    }\n",
              "\n",
              "    [theme=dark] .colab-df-convert:hover {\n",
              "      background-color: #434B5C;\n",
              "      box-shadow: 0px 1px 3px 1px rgba(0, 0, 0, 0.15);\n",
              "      filter: drop-shadow(0px 1px 2px rgba(0, 0, 0, 0.3));\n",
              "      fill: #FFFFFF;\n",
              "    }\n",
              "  </style>\n",
              "\n",
              "      <script>\n",
              "        const buttonEl =\n",
              "          document.querySelector('#df-a4bf435d-7115-405f-b480-3a4667715c48 button.colab-df-convert');\n",
              "        buttonEl.style.display =\n",
              "          google.colab.kernel.accessAllowed ? 'block' : 'none';\n",
              "\n",
              "        async function convertToInteractive(key) {\n",
              "          const element = document.querySelector('#df-a4bf435d-7115-405f-b480-3a4667715c48');\n",
              "          const dataTable =\n",
              "            await google.colab.kernel.invokeFunction('convertToInteractive',\n",
              "                                                     [key], {});\n",
              "          if (!dataTable) return;\n",
              "\n",
              "          const docLinkHtml = 'Like what you see? Visit the ' +\n",
              "            '<a target=\"_blank\" href=https://colab.research.google.com/notebooks/data_table.ipynb>data table notebook</a>'\n",
              "            + ' to learn more about interactive tables.';\n",
              "          element.innerHTML = '';\n",
              "          dataTable['output_type'] = 'display_data';\n",
              "          await google.colab.output.renderOutput(dataTable, element);\n",
              "          const docLink = document.createElement('div');\n",
              "          docLink.innerHTML = docLinkHtml;\n",
              "          element.appendChild(docLink);\n",
              "        }\n",
              "      </script>\n",
              "    </div>\n",
              "  </div>\n",
              "  "
            ]
          },
          "metadata": {},
          "execution_count": 17
        }
      ]
    },
    {
      "cell_type": "markdown",
      "source": [
        "Age: The age of the person applying for the loan.\n",
        "\n",
        "Experience: The number of years of work experience of the person applying for the loan.\n",
        "\n",
        "Income: The annual income of the person applying for the loan.\n",
        "\n",
        "ZIP Code: The zip code of the person's address.\n",
        "\n",
        "Family: The size of the person's family (number of dependents).\n",
        "\n",
        "CCAvg: The average credit card spending per month of the person.\n",
        "\n",
        "Education: The level of education of the person (e.g., undergraduate, graduate, etc.).\n",
        "\n",
        "Mortgage: The value of the person's house mortgage, if any.\n",
        "\n",
        "Personal Loan: A binary variable indicating whether the person accepted the \n",
        "personal loan offer (1) or not (0).\n",
        "\n",
        "Securities Account: A binary variable indicating whether the person has a \n",
        "securities account with the bank (1) or not (0).\n",
        "\n",
        "CD Account: A binary variable indicating whether the person has a certificate of deposit (CD) account with the bank (1) or not (0).\n",
        "\n",
        "Online: A binary variable indicating whether the person uses internet banking facilities (1) or not (0).\n",
        "\n",
        "CreditCard: A binary variable indicating whether the person has a credit card with the bank (1) or not (0)."
      ],
      "metadata": {
        "id": "PmctKuWPPljt"
      }
    },
    {
      "cell_type": "code",
      "source": [
        "df.info()"
      ],
      "metadata": {
        "colab": {
          "base_uri": "https://localhost:8080/"
        },
        "id": "iJaZbUQBPl8r",
        "outputId": "35e10e0f-e79a-451a-adb9-98f288e911f5"
      },
      "execution_count": null,
      "outputs": [
        {
          "output_type": "stream",
          "name": "stdout",
          "text": [
            "<class 'pandas.core.frame.DataFrame'>\n",
            "RangeIndex: 5000 entries, 0 to 4999\n",
            "Data columns (total 14 columns):\n",
            " #   Column              Non-Null Count  Dtype  \n",
            "---  ------              --------------  -----  \n",
            " 0   ID                  5000 non-null   int64  \n",
            " 1   Age                 5000 non-null   int64  \n",
            " 2   Experience          5000 non-null   int64  \n",
            " 3   Income              5000 non-null   int64  \n",
            " 4   ZIP Code            5000 non-null   int64  \n",
            " 5   Family              5000 non-null   int64  \n",
            " 6   CCAvg               5000 non-null   float64\n",
            " 7   Education           5000 non-null   int64  \n",
            " 8   Mortgage            5000 non-null   int64  \n",
            " 9   Personal Loan       5000 non-null   int64  \n",
            " 10  Securities Account  5000 non-null   int64  \n",
            " 11  CD Account          5000 non-null   int64  \n",
            " 12  Online              5000 non-null   int64  \n",
            " 13  CreditCard          5000 non-null   int64  \n",
            "dtypes: float64(1), int64(13)\n",
            "memory usage: 547.0 KB\n"
          ]
        }
      ]
    },
    {
      "cell_type": "markdown",
      "source": [
        "**Find the number of duplicates and their location**"
      ],
      "metadata": {
        "id": "hsAXRJxEQAPn"
      }
    },
    {
      "cell_type": "code",
      "source": [
        "from collections import Counter\n",
        "\n",
        "# Find the duplicates and their count using Counter\n",
        "duplicates = Counter(df)\n",
        "\n",
        "# Create a list of duplicate items\n",
        "duplicate_items = [item for item, count in duplicates.items() if count > 1]\n",
        "\n",
        "# Create a dictionary of the indices of the duplicates\n",
        "duplicate_indices = {item: [index for index, value in enumerate(df) if value == item] for item in duplicate_items}\n",
        "\n",
        "print(\"Duplicate items: \", duplicate_items)\n",
        "print(\"Duplicate indices: \", duplicate_indices)"
      ],
      "metadata": {
        "colab": {
          "base_uri": "https://localhost:8080/"
        },
        "id": "j4V6UP-wP1cV",
        "outputId": "cdc3e727-5609-4d3e-f6c0-815ec0dcdb6c"
      },
      "execution_count": null,
      "outputs": [
        {
          "output_type": "stream",
          "name": "stdout",
          "text": [
            "Duplicate items:  []\n",
            "Duplicate indices:  {}\n"
          ]
        }
      ]
    },
    {
      "cell_type": "code",
      "source": [
        "#Drop the index column\n",
        "#df.drop(['index'], axis=1, inplace=True)\n",
        "df.drop(['ID'], axis=1, inplace=True)\n",
        "df.head(5)"
      ],
      "metadata": {
        "colab": {
          "base_uri": "https://localhost:8080/",
          "height": 206
        },
        "id": "JjA2SE85QNCM",
        "outputId": "291725c8-eaf3-4a00-9dab-b068537add3b"
      },
      "execution_count": null,
      "outputs": [
        {
          "output_type": "execute_result",
          "data": {
            "text/plain": [
              "   Age  Experience  Income  ZIP Code  Family  CCAvg  Education  Mortgage  \\\n",
              "0   25           1      49     91107       4    1.6          1         0   \n",
              "1   45          19      34     90089       3    1.5          1         0   \n",
              "2   39          15      11     94720       1    1.0          1         0   \n",
              "3   35           9     100     94112       1    2.7          2         0   \n",
              "4   35           8      45     91330       4    1.0          2         0   \n",
              "\n",
              "   Personal Loan  Securities Account  CD Account  Online  CreditCard  \n",
              "0              0                   1           0       0           0  \n",
              "1              0                   1           0       0           0  \n",
              "2              0                   0           0       0           0  \n",
              "3              0                   0           0       0           0  \n",
              "4              0                   0           0       0           1  "
            ],
            "text/html": [
              "\n",
              "  <div id=\"df-72cb7357-935b-4aff-a9fd-bf2b27299a57\">\n",
              "    <div class=\"colab-df-container\">\n",
              "      <div>\n",
              "<style scoped>\n",
              "    .dataframe tbody tr th:only-of-type {\n",
              "        vertical-align: middle;\n",
              "    }\n",
              "\n",
              "    .dataframe tbody tr th {\n",
              "        vertical-align: top;\n",
              "    }\n",
              "\n",
              "    .dataframe thead th {\n",
              "        text-align: right;\n",
              "    }\n",
              "</style>\n",
              "<table border=\"1\" class=\"dataframe\">\n",
              "  <thead>\n",
              "    <tr style=\"text-align: right;\">\n",
              "      <th></th>\n",
              "      <th>Age</th>\n",
              "      <th>Experience</th>\n",
              "      <th>Income</th>\n",
              "      <th>ZIP Code</th>\n",
              "      <th>Family</th>\n",
              "      <th>CCAvg</th>\n",
              "      <th>Education</th>\n",
              "      <th>Mortgage</th>\n",
              "      <th>Personal Loan</th>\n",
              "      <th>Securities Account</th>\n",
              "      <th>CD Account</th>\n",
              "      <th>Online</th>\n",
              "      <th>CreditCard</th>\n",
              "    </tr>\n",
              "  </thead>\n",
              "  <tbody>\n",
              "    <tr>\n",
              "      <th>0</th>\n",
              "      <td>25</td>\n",
              "      <td>1</td>\n",
              "      <td>49</td>\n",
              "      <td>91107</td>\n",
              "      <td>4</td>\n",
              "      <td>1.6</td>\n",
              "      <td>1</td>\n",
              "      <td>0</td>\n",
              "      <td>0</td>\n",
              "      <td>1</td>\n",
              "      <td>0</td>\n",
              "      <td>0</td>\n",
              "      <td>0</td>\n",
              "    </tr>\n",
              "    <tr>\n",
              "      <th>1</th>\n",
              "      <td>45</td>\n",
              "      <td>19</td>\n",
              "      <td>34</td>\n",
              "      <td>90089</td>\n",
              "      <td>3</td>\n",
              "      <td>1.5</td>\n",
              "      <td>1</td>\n",
              "      <td>0</td>\n",
              "      <td>0</td>\n",
              "      <td>1</td>\n",
              "      <td>0</td>\n",
              "      <td>0</td>\n",
              "      <td>0</td>\n",
              "    </tr>\n",
              "    <tr>\n",
              "      <th>2</th>\n",
              "      <td>39</td>\n",
              "      <td>15</td>\n",
              "      <td>11</td>\n",
              "      <td>94720</td>\n",
              "      <td>1</td>\n",
              "      <td>1.0</td>\n",
              "      <td>1</td>\n",
              "      <td>0</td>\n",
              "      <td>0</td>\n",
              "      <td>0</td>\n",
              "      <td>0</td>\n",
              "      <td>0</td>\n",
              "      <td>0</td>\n",
              "    </tr>\n",
              "    <tr>\n",
              "      <th>3</th>\n",
              "      <td>35</td>\n",
              "      <td>9</td>\n",
              "      <td>100</td>\n",
              "      <td>94112</td>\n",
              "      <td>1</td>\n",
              "      <td>2.7</td>\n",
              "      <td>2</td>\n",
              "      <td>0</td>\n",
              "      <td>0</td>\n",
              "      <td>0</td>\n",
              "      <td>0</td>\n",
              "      <td>0</td>\n",
              "      <td>0</td>\n",
              "    </tr>\n",
              "    <tr>\n",
              "      <th>4</th>\n",
              "      <td>35</td>\n",
              "      <td>8</td>\n",
              "      <td>45</td>\n",
              "      <td>91330</td>\n",
              "      <td>4</td>\n",
              "      <td>1.0</td>\n",
              "      <td>2</td>\n",
              "      <td>0</td>\n",
              "      <td>0</td>\n",
              "      <td>0</td>\n",
              "      <td>0</td>\n",
              "      <td>0</td>\n",
              "      <td>1</td>\n",
              "    </tr>\n",
              "  </tbody>\n",
              "</table>\n",
              "</div>\n",
              "      <button class=\"colab-df-convert\" onclick=\"convertToInteractive('df-72cb7357-935b-4aff-a9fd-bf2b27299a57')\"\n",
              "              title=\"Convert this dataframe to an interactive table.\"\n",
              "              style=\"display:none;\">\n",
              "        \n",
              "  <svg xmlns=\"http://www.w3.org/2000/svg\" height=\"24px\"viewBox=\"0 0 24 24\"\n",
              "       width=\"24px\">\n",
              "    <path d=\"M0 0h24v24H0V0z\" fill=\"none\"/>\n",
              "    <path d=\"M18.56 5.44l.94 2.06.94-2.06 2.06-.94-2.06-.94-.94-2.06-.94 2.06-2.06.94zm-11 1L8.5 8.5l.94-2.06 2.06-.94-2.06-.94L8.5 2.5l-.94 2.06-2.06.94zm10 10l.94 2.06.94-2.06 2.06-.94-2.06-.94-.94-2.06-.94 2.06-2.06.94z\"/><path d=\"M17.41 7.96l-1.37-1.37c-.4-.4-.92-.59-1.43-.59-.52 0-1.04.2-1.43.59L10.3 9.45l-7.72 7.72c-.78.78-.78 2.05 0 2.83L4 21.41c.39.39.9.59 1.41.59.51 0 1.02-.2 1.41-.59l7.78-7.78 2.81-2.81c.8-.78.8-2.07 0-2.86zM5.41 20L4 18.59l7.72-7.72 1.47 1.35L5.41 20z\"/>\n",
              "  </svg>\n",
              "      </button>\n",
              "      \n",
              "  <style>\n",
              "    .colab-df-container {\n",
              "      display:flex;\n",
              "      flex-wrap:wrap;\n",
              "      gap: 12px;\n",
              "    }\n",
              "\n",
              "    .colab-df-convert {\n",
              "      background-color: #E8F0FE;\n",
              "      border: none;\n",
              "      border-radius: 50%;\n",
              "      cursor: pointer;\n",
              "      display: none;\n",
              "      fill: #1967D2;\n",
              "      height: 32px;\n",
              "      padding: 0 0 0 0;\n",
              "      width: 32px;\n",
              "    }\n",
              "\n",
              "    .colab-df-convert:hover {\n",
              "      background-color: #E2EBFA;\n",
              "      box-shadow: 0px 1px 2px rgba(60, 64, 67, 0.3), 0px 1px 3px 1px rgba(60, 64, 67, 0.15);\n",
              "      fill: #174EA6;\n",
              "    }\n",
              "\n",
              "    [theme=dark] .colab-df-convert {\n",
              "      background-color: #3B4455;\n",
              "      fill: #D2E3FC;\n",
              "    }\n",
              "\n",
              "    [theme=dark] .colab-df-convert:hover {\n",
              "      background-color: #434B5C;\n",
              "      box-shadow: 0px 1px 3px 1px rgba(0, 0, 0, 0.15);\n",
              "      filter: drop-shadow(0px 1px 2px rgba(0, 0, 0, 0.3));\n",
              "      fill: #FFFFFF;\n",
              "    }\n",
              "  </style>\n",
              "\n",
              "      <script>\n",
              "        const buttonEl =\n",
              "          document.querySelector('#df-72cb7357-935b-4aff-a9fd-bf2b27299a57 button.colab-df-convert');\n",
              "        buttonEl.style.display =\n",
              "          google.colab.kernel.accessAllowed ? 'block' : 'none';\n",
              "\n",
              "        async function convertToInteractive(key) {\n",
              "          const element = document.querySelector('#df-72cb7357-935b-4aff-a9fd-bf2b27299a57');\n",
              "          const dataTable =\n",
              "            await google.colab.kernel.invokeFunction('convertToInteractive',\n",
              "                                                     [key], {});\n",
              "          if (!dataTable) return;\n",
              "\n",
              "          const docLinkHtml = 'Like what you see? Visit the ' +\n",
              "            '<a target=\"_blank\" href=https://colab.research.google.com/notebooks/data_table.ipynb>data table notebook</a>'\n",
              "            + ' to learn more about interactive tables.';\n",
              "          element.innerHTML = '';\n",
              "          dataTable['output_type'] = 'display_data';\n",
              "          await google.colab.output.renderOutput(dataTable, element);\n",
              "          const docLink = document.createElement('div');\n",
              "          docLink.innerHTML = docLinkHtml;\n",
              "          element.appendChild(docLink);\n",
              "        }\n",
              "      </script>\n",
              "    </div>\n",
              "  </div>\n",
              "  "
            ]
          },
          "metadata": {},
          "execution_count": 5
        }
      ]
    },
    {
      "cell_type": "markdown",
      "source": [
        "**Find the total number of unique values for each column**"
      ],
      "metadata": {
        "id": "so2qkhznQR4h"
      }
    },
    {
      "cell_type": "code",
      "source": [
        "unique_number = []  # calculate the # unique values in each column\n",
        "for i in df.columns:\n",
        "    x = df[i].value_counts().count()\n",
        "    unique_number.append(x) # append(x) will add the unique number to the \n",
        "pd.DataFrame(unique_number,index = df.columns,columns=[\"Total Unique Value\"])"
      ],
      "metadata": {
        "colab": {
          "base_uri": "https://localhost:8080/",
          "height": 457
        },
        "id": "vTdy308hQSQi",
        "outputId": "757b015e-fbf8-48b6-e038-62ae49b84368"
      },
      "execution_count": null,
      "outputs": [
        {
          "output_type": "execute_result",
          "data": {
            "text/plain": [
              "                    Total Unique Value\n",
              "Age                                 45\n",
              "Experience                          47\n",
              "Income                             162\n",
              "ZIP Code                           467\n",
              "Family                               4\n",
              "CCAvg                              108\n",
              "Education                            3\n",
              "Mortgage                           347\n",
              "Personal Loan                        2\n",
              "Securities Account                   2\n",
              "CD Account                           2\n",
              "Online                               2\n",
              "CreditCard                           2"
            ],
            "text/html": [
              "\n",
              "  <div id=\"df-8ab7dfd7-eac8-4b75-b970-2024667b214c\">\n",
              "    <div class=\"colab-df-container\">\n",
              "      <div>\n",
              "<style scoped>\n",
              "    .dataframe tbody tr th:only-of-type {\n",
              "        vertical-align: middle;\n",
              "    }\n",
              "\n",
              "    .dataframe tbody tr th {\n",
              "        vertical-align: top;\n",
              "    }\n",
              "\n",
              "    .dataframe thead th {\n",
              "        text-align: right;\n",
              "    }\n",
              "</style>\n",
              "<table border=\"1\" class=\"dataframe\">\n",
              "  <thead>\n",
              "    <tr style=\"text-align: right;\">\n",
              "      <th></th>\n",
              "      <th>Total Unique Value</th>\n",
              "    </tr>\n",
              "  </thead>\n",
              "  <tbody>\n",
              "    <tr>\n",
              "      <th>Age</th>\n",
              "      <td>45</td>\n",
              "    </tr>\n",
              "    <tr>\n",
              "      <th>Experience</th>\n",
              "      <td>47</td>\n",
              "    </tr>\n",
              "    <tr>\n",
              "      <th>Income</th>\n",
              "      <td>162</td>\n",
              "    </tr>\n",
              "    <tr>\n",
              "      <th>ZIP Code</th>\n",
              "      <td>467</td>\n",
              "    </tr>\n",
              "    <tr>\n",
              "      <th>Family</th>\n",
              "      <td>4</td>\n",
              "    </tr>\n",
              "    <tr>\n",
              "      <th>CCAvg</th>\n",
              "      <td>108</td>\n",
              "    </tr>\n",
              "    <tr>\n",
              "      <th>Education</th>\n",
              "      <td>3</td>\n",
              "    </tr>\n",
              "    <tr>\n",
              "      <th>Mortgage</th>\n",
              "      <td>347</td>\n",
              "    </tr>\n",
              "    <tr>\n",
              "      <th>Personal Loan</th>\n",
              "      <td>2</td>\n",
              "    </tr>\n",
              "    <tr>\n",
              "      <th>Securities Account</th>\n",
              "      <td>2</td>\n",
              "    </tr>\n",
              "    <tr>\n",
              "      <th>CD Account</th>\n",
              "      <td>2</td>\n",
              "    </tr>\n",
              "    <tr>\n",
              "      <th>Online</th>\n",
              "      <td>2</td>\n",
              "    </tr>\n",
              "    <tr>\n",
              "      <th>CreditCard</th>\n",
              "      <td>2</td>\n",
              "    </tr>\n",
              "  </tbody>\n",
              "</table>\n",
              "</div>\n",
              "      <button class=\"colab-df-convert\" onclick=\"convertToInteractive('df-8ab7dfd7-eac8-4b75-b970-2024667b214c')\"\n",
              "              title=\"Convert this dataframe to an interactive table.\"\n",
              "              style=\"display:none;\">\n",
              "        \n",
              "  <svg xmlns=\"http://www.w3.org/2000/svg\" height=\"24px\"viewBox=\"0 0 24 24\"\n",
              "       width=\"24px\">\n",
              "    <path d=\"M0 0h24v24H0V0z\" fill=\"none\"/>\n",
              "    <path d=\"M18.56 5.44l.94 2.06.94-2.06 2.06-.94-2.06-.94-.94-2.06-.94 2.06-2.06.94zm-11 1L8.5 8.5l.94-2.06 2.06-.94-2.06-.94L8.5 2.5l-.94 2.06-2.06.94zm10 10l.94 2.06.94-2.06 2.06-.94-2.06-.94-.94-2.06-.94 2.06-2.06.94z\"/><path d=\"M17.41 7.96l-1.37-1.37c-.4-.4-.92-.59-1.43-.59-.52 0-1.04.2-1.43.59L10.3 9.45l-7.72 7.72c-.78.78-.78 2.05 0 2.83L4 21.41c.39.39.9.59 1.41.59.51 0 1.02-.2 1.41-.59l7.78-7.78 2.81-2.81c.8-.78.8-2.07 0-2.86zM5.41 20L4 18.59l7.72-7.72 1.47 1.35L5.41 20z\"/>\n",
              "  </svg>\n",
              "      </button>\n",
              "      \n",
              "  <style>\n",
              "    .colab-df-container {\n",
              "      display:flex;\n",
              "      flex-wrap:wrap;\n",
              "      gap: 12px;\n",
              "    }\n",
              "\n",
              "    .colab-df-convert {\n",
              "      background-color: #E8F0FE;\n",
              "      border: none;\n",
              "      border-radius: 50%;\n",
              "      cursor: pointer;\n",
              "      display: none;\n",
              "      fill: #1967D2;\n",
              "      height: 32px;\n",
              "      padding: 0 0 0 0;\n",
              "      width: 32px;\n",
              "    }\n",
              "\n",
              "    .colab-df-convert:hover {\n",
              "      background-color: #E2EBFA;\n",
              "      box-shadow: 0px 1px 2px rgba(60, 64, 67, 0.3), 0px 1px 3px 1px rgba(60, 64, 67, 0.15);\n",
              "      fill: #174EA6;\n",
              "    }\n",
              "\n",
              "    [theme=dark] .colab-df-convert {\n",
              "      background-color: #3B4455;\n",
              "      fill: #D2E3FC;\n",
              "    }\n",
              "\n",
              "    [theme=dark] .colab-df-convert:hover {\n",
              "      background-color: #434B5C;\n",
              "      box-shadow: 0px 1px 3px 1px rgba(0, 0, 0, 0.15);\n",
              "      filter: drop-shadow(0px 1px 2px rgba(0, 0, 0, 0.3));\n",
              "      fill: #FFFFFF;\n",
              "    }\n",
              "  </style>\n",
              "\n",
              "      <script>\n",
              "        const buttonEl =\n",
              "          document.querySelector('#df-8ab7dfd7-eac8-4b75-b970-2024667b214c button.colab-df-convert');\n",
              "        buttonEl.style.display =\n",
              "          google.colab.kernel.accessAllowed ? 'block' : 'none';\n",
              "\n",
              "        async function convertToInteractive(key) {\n",
              "          const element = document.querySelector('#df-8ab7dfd7-eac8-4b75-b970-2024667b214c');\n",
              "          const dataTable =\n",
              "            await google.colab.kernel.invokeFunction('convertToInteractive',\n",
              "                                                     [key], {});\n",
              "          if (!dataTable) return;\n",
              "\n",
              "          const docLinkHtml = 'Like what you see? Visit the ' +\n",
              "            '<a target=\"_blank\" href=https://colab.research.google.com/notebooks/data_table.ipynb>data table notebook</a>'\n",
              "            + ' to learn more about interactive tables.';\n",
              "          element.innerHTML = '';\n",
              "          dataTable['output_type'] = 'display_data';\n",
              "          await google.colab.output.renderOutput(dataTable, element);\n",
              "          const docLink = document.createElement('div');\n",
              "          docLink.innerHTML = docLinkHtml;\n",
              "          element.appendChild(docLink);\n",
              "        }\n",
              "      </script>\n",
              "    </div>\n",
              "  </div>\n",
              "  "
            ]
          },
          "metadata": {},
          "execution_count": 6
        }
      ]
    },
    {
      "cell_type": "markdown",
      "source": [
        "Personal Loan, Securities Account, CD Account, Online, CreditCard, and Education, Family and zip code are categorical values."
      ],
      "metadata": {
        "id": "NXi0DS8sQXSz"
      }
    },
    {
      "cell_type": "markdown",
      "source": [
        "**Categorical Column Exploration in a Dataframe**"
      ],
      "metadata": {
        "id": "d_P0qDx7hj5O"
      }
    },
    {
      "cell_type": "code",
      "source": [
        "# Select only the categorical columns\n",
        "cat_cols = [\"Family\",\"Personal Loan\", \"Securities Account\", \"CD Account\", \"Online\", \"CreditCard\", \"Education\"]\n",
        "df_cat = df[cat_cols]\n",
        "\n",
        "# Perform relevant operations on the categorical columns\n",
        "# For example, to get the unique values in each categorical column:\n",
        "for col in df_cat.columns:\n",
        "    unique_values = df_cat[col].unique()\n",
        "    print(f\"Column {col} has {len(unique_values)} unique values:\")\n",
        "    print(unique_values)\n"
      ],
      "metadata": {
        "colab": {
          "base_uri": "https://localhost:8080/"
        },
        "id": "u3Gr7Qu8QrIM",
        "outputId": "85f95859-c5fa-4cdf-9c6d-dfa36dbaf3e8"
      },
      "execution_count": null,
      "outputs": [
        {
          "output_type": "stream",
          "name": "stdout",
          "text": [
            "Column Family has 4 unique values:\n",
            "[4 3 1 2]\n",
            "Column Personal Loan has 2 unique values:\n",
            "[0 1]\n",
            "Column Securities Account has 2 unique values:\n",
            "[1 0]\n",
            "Column CD Account has 2 unique values:\n",
            "[0 1]\n",
            "Column Online has 2 unique values:\n",
            "[0 1]\n",
            "Column CreditCard has 2 unique values:\n",
            "[0 1]\n",
            "Column Education has 3 unique values:\n",
            "[1 2 3]\n"
          ]
        }
      ]
    },
    {
      "cell_type": "markdown",
      "source": [
        "**Exploratory Data Analysis for Numerical Features.**"
      ],
      "metadata": {
        "id": "HBWeNOA3RXFn"
      }
    },
    {
      "cell_type": "code",
      "source": [
        "import matplotlib.pyplot as plt\n",
        "import seaborn as sns\n",
        "\n",
        "# summary statistics\n",
        "print(df[['Age', 'Experience', 'Income', 'CCAvg', 'Mortgage']].describe())\n",
        "\n",
        "# histograms\n",
        "df[['Age', 'Experience', 'Income', 'CCAvg', 'Mortgage']].hist(bins=20, figsize=(12,8))\n",
        "plt.show()\n",
        "\n",
        "# box plots\n",
        "sns.boxplot(data=df[['Age', 'Experience', 'Income', 'CCAvg', 'Mortgage']])\n",
        "plt.show()"
      ],
      "metadata": {
        "colab": {
          "base_uri": "https://localhost:8080/",
          "height": 903
        },
        "id": "68fXq3HpRTly",
        "outputId": "8f64a0d9-4385-4ce5-b9c6-f64863a08aa7"
      },
      "execution_count": null,
      "outputs": [
        {
          "output_type": "stream",
          "name": "stdout",
          "text": [
            "               Age   Experience       Income        CCAvg     Mortgage\n",
            "count  5000.000000  5000.000000  5000.000000  5000.000000  5000.000000\n",
            "mean     45.338400    20.104600    73.774200     1.937938    56.498800\n",
            "std      11.463166    11.467954    46.033729     1.747659   101.713802\n",
            "min      23.000000    -3.000000     8.000000     0.000000     0.000000\n",
            "25%      35.000000    10.000000    39.000000     0.700000     0.000000\n",
            "50%      45.000000    20.000000    64.000000     1.500000     0.000000\n",
            "75%      55.000000    30.000000    98.000000     2.500000   101.000000\n",
            "max      67.000000    43.000000   224.000000    10.000000   635.000000\n"
          ]
        },
        {
          "output_type": "display_data",
          "data": {
            "text/plain": [
              "<Figure size 864x576 with 6 Axes>"
            ],
            "image/png": "[encoded data removed]"
          },
          "metadata": {
            "needs_background": "light"
          }
        },
        {
          "output_type": "display_data",
          "data": {
            "text/plain": [
              "<Figure size 432x288 with 1 Axes>"
            ],
            "image/png": "[encoded data removed]"
          },
          "metadata": {
            "needs_background": "light"
          }
        }
      ]
    },
    {
      "cell_type": "markdown",
      "source": [
        "Minimum value of the experience is -3 which is not reasonable. "
      ],
      "metadata": {
        "id": "mChyDRKLmfwW"
      }
    },
    {
      "cell_type": "code",
      "source": [
        "# Define variables of interest\n",
        "variables = ['Age', 'Experience', 'Income', 'CCAvg', 'Mortgage']\n",
        "\n",
        "# Loop over variables and count outliers\n",
        "for var in variables:\n",
        "    q1 = df[var].quantile(0.25)\n",
        "    q3 = df[var].quantile(0.75)\n",
        "    iqr = q3 - q1\n",
        "    lower_bound = q1 - 1.5 * iqr\n",
        "    upper_bound = q3 + 1.5 * iqr\n",
        "    outliers = df[(df[var] < lower_bound) | (df[var] > upper_bound)][var]\n",
        "    print(f\"{var}: {outliers.count()} outliers\")\n"
      ],
      "metadata": {
        "colab": {
          "base_uri": "https://localhost:8080/"
        },
        "id": "J2Uw9QK-mx0V",
        "outputId": "195f8623-a025-4c43-ecc2-626246d05adb"
      },
      "execution_count": null,
      "outputs": [
        {
          "output_type": "stream",
          "name": "stdout",
          "text": [
            "Age: 0 outliers\n",
            "Experience: 0 outliers\n",
            "Income: 96 outliers\n",
            "CCAvg: 324 outliers\n",
            "Mortgage: 291 outliers\n"
          ]
        }
      ]
    },
    {
      "cell_type": "markdown",
      "source": [
        "The provided code uses the Interquartile Range (IQR) method to identify outliers in a set of variables (Age, Experience, Income, CCAvg, and Mortgage) in a given dataset.\n",
        "\n",
        "The IQR is a statistical measure that represents the range between the first quartile (Q1) and the third quartile (Q3) of the data. In this method, any value outside the range of Q1 - 1.5 * IQR to Q3 + 1.5 * IQR is considered an outlier.\n",
        "\n",
        "We use this method to identify outliers in the variables of interest, because outliers can be indicative of errors or inaccuracies in the data. By identifying these values, we can investigate and address any potential issues in the data.\n",
        "\n",
        "However, the code does not detect invalid values, such as the negative value in the Experience column. To address this, we can use domain knowledge or business rules to identify invalid or unusual values, such as negative values where they shouldn't occur. In the case of the Experience column, we can assume that the values should never be negative, and any negative value would be considered an invalid or unusual value. We can then identify and remove these invalid values from the dataset before using the IQR method to identify outliers. This ensures that our analysis is based on valid and accurate data."
      ],
      "metadata": {
        "id": "M5wPoSmcn2j4"
      }
    },
    {
      "cell_type": "code",
      "source": [
        "# Identify and count invalid values in Experience column\n",
        "invalid_exp = df[df['Experience'] < 0]['Experience']\n",
        "print(f\"Invalid experience values: {invalid_exp.count()}\")\n",
        "\n",
        "# Remove invalid values from the dataframe\n",
        "df = df[df['Experience'] >= 0]"
      ],
      "metadata": {
        "colab": {
          "base_uri": "https://localhost:8080/"
        },
        "id": "GAcbmnT9nLs8",
        "outputId": "cce9fa82-1838-45b8-a61a-f19eddde29ff"
      },
      "execution_count": null,
      "outputs": [
        {
          "output_type": "stream",
          "name": "stdout",
          "text": [
            "Invalid experience values: 52\n"
          ]
        }
      ]
    },
    {
      "cell_type": "code",
      "source": [
        "# summary statistics\n",
        "print(df[['Age', 'Experience', 'Income', 'CCAvg', 'Mortgage']].describe().round(2))"
      ],
      "metadata": {
        "colab": {
          "base_uri": "https://localhost:8080/"
        },
        "id": "Q_0lvqT-nRCQ",
        "outputId": "3afae823-8498-4772-e214-b3ed5122921f"
      },
      "execution_count": null,
      "outputs": [
        {
          "output_type": "stream",
          "name": "stdout",
          "text": [
            "           Age  Experience   Income    CCAvg  Mortgage\n",
            "count  4948.00     4948.00  4948.00  4948.00   4948.00\n",
            "mean     45.56       20.33    73.81     1.94     56.63\n",
            "std      11.32       11.31    46.11     1.75    101.83\n",
            "min      24.00        0.00     8.00     0.00      0.00\n",
            "25%      36.00       10.75    39.00     0.70      0.00\n",
            "50%      46.00       20.00    64.00     1.50      0.00\n",
            "75%      55.00       30.00    98.00     2.60    101.00\n",
            "max      67.00       43.00   224.00    10.00    635.00\n"
          ]
        }
      ]
    },
    {
      "cell_type": "markdown",
      "source": [
        "Age: The data contains 4,948 observations of age, which range from 24 to 67 years. The average age is 45.56 years old, and the standard deviation is 11.32 years. The age distribution seems to be relatively normal with no significant skewness or outliers.\n",
        "\n",
        "Experience: The data contains 4,948 observations of work experience, which range from 0 to 43 years. The average experience is 20.33 years old, and the standard deviation is 11.31 years. The experience distribution seems to be relatively normal with no significant skewness or outliers.\n",
        "\n",
        "Income: The data contains 4,948 observations of income, which range from 8 to 224 thousands of dollars per year. The average income is 73.81 thousands of dollars per year, and the standard deviation is 46.11 thousands of dollars per year. The income distribution seems to be positively skewed with some high outliers.\n",
        "\n",
        "CCAvg: The data contains 4,948 observations of credit card average spending, which range from 0 to 10 thousands of dollars per month. The average credit card spending is 1.94 thousands of dollars per month, and the standard deviation is 1.75 thousands of dollars per month. The CCAvg distribution seems to be positively skewed with some high outliers.\n",
        "\n",
        "Mortgage: The data contains 4,948 observations of mortgage, which range from 0 to 635 thousands of dollars. The average mortgage is 56.63 thousands of dollars, and the standard deviation is 101.83 thousands of dollars. The mortgage distribution seems to be positively skewed with some high outliers."
      ],
      "metadata": {
        "id": "YtX6V89FsnsF"
      }
    },
    {
      "cell_type": "markdown",
      "source": [
        "**Visualizing the Relationship between Categorical Variables and Personal Loan Target Variable**"
      ],
      "metadata": {
        "id": "wln6Ng9fD4QB"
      }
    },
    {
      "cell_type": "code",
      "source": [
        "import matplotlib.pyplot as plt\n",
        "import pandas as pd\n",
        "\n",
        "\n",
        "\n",
        "# Calculate percentage of each family size category\n",
        "family_size_counts = df['Family'].value_counts()\n",
        "family_size_perc = family_size_counts / family_size_counts.sum() * 100\n",
        "\n",
        "# Create a pie chart\n",
        "plt.pie(family_size_perc, labels=family_size_perc.index, autopct='%1.1f%%')\n",
        "plt.title('Distribution of Family Size')\n",
        "plt.show()\n"
      ],
      "metadata": {
        "colab": {
          "base_uri": "https://localhost:8080/",
          "height": 264
        },
        "id": "6tenyQquBKjo",
        "outputId": "2500f99a-63fc-4e02-c7c0-8d0178dcb86e"
      },
      "execution_count": null,
      "outputs": [
        {
          "output_type": "display_data",
          "data": {
            "text/plain": [
              "<Figure size 432x288 with 1 Axes>"
            ],
            "image/png": "[encoded data removed]"
          },
          "metadata": {}
        }
      ]
    },
    {
      "cell_type": "code",
      "source": [
        "# Calculate percentage of each family size category\n",
        "family_size_counts = df['Education'].value_counts()\n",
        "family_size_perc = family_size_counts / family_size_counts.sum() * 100\n",
        "\n",
        "# Create a pie chart\n",
        "plt.pie(family_size_perc, labels=family_size_perc.index, autopct='%1.1f%%')\n",
        "plt.title('Distribution of Education Level')\n",
        "plt.show()\n"
      ],
      "metadata": {
        "colab": {
          "base_uri": "https://localhost:8080/",
          "height": 264
        },
        "id": "MkwojarTBX8o",
        "outputId": "64e1a552-7cfe-4ed7-9e59-d48e672f1a75"
      },
      "execution_count": null,
      "outputs": [
        {
          "output_type": "display_data",
          "data": {
            "text/plain": [
              "<Figure size 432x288 with 1 Axes>"
            ],
            "image/png": "[encoded data removed]"
          },
          "metadata": {}
        }
      ]
    },
    {
      "cell_type": "code",
      "source": [
        "import matplotlib.pyplot as plt\n",
        "import seaborn as sns\n",
        "\n",
        "# Education vs Personal Loan\n",
        "sns.countplot(x='Education', hue='Personal Loan', data=df)\n",
        "plt.title('Education vs Personal Loan')\n",
        "plt.show()\n",
        "\n",
        "# Family vs Personal Loan\n",
        "sns.countplot(x='Family', hue='Personal Loan', data=df)\n",
        "plt.title('Family vs Personal Loan')\n",
        "plt.show()\n",
        "\n",
        "# Securities Account vs Personal Loan\n",
        "sns.countplot(x='Securities Account', hue='Personal Loan', data=df)\n",
        "plt.title('Securities Account vs Personal Loan')\n",
        "plt.show()\n"
      ],
      "metadata": {
        "colab": {
          "base_uri": "https://localhost:8080/",
          "height": 851
        },
        "id": "pJOrn5Fxr4Ir",
        "outputId": "4d9417ea-132c-4f56-a20e-bd4c987d0252"
      },
      "execution_count": null,
      "outputs": [
        {
          "output_type": "display_data",
          "data": {
            "text/plain": [
              "<Figure size 432x288 with 1 Axes>"
            ],
            "image/png": "[encoded data removed]"
          },
          "metadata": {
            "needs_background": "light"
          }
        },
        {
          "output_type": "display_data",
          "data": {
            "text/plain": [
              "<Figure size 432x288 with 1 Axes>"
            ],
            "image/png": "[encoded data removed]"
          },
          "metadata": {
            "needs_background": "light"
          }
        },
        {
          "output_type": "display_data",
          "data": {
            "text/plain": [
              "<Figure size 432x288 with 1 Axes>"
            ],
            "image/png": "[encoded data removed]"
          },
          "metadata": {
            "needs_background": "light"
          }
        }
      ]
    },
    {
      "cell_type": "markdown",
      "source": [
        "Age: The average age of customers is around 45 years, with the majority of customers falling between the ages of 30 and 60. The youngest customer is 23 years old, and the oldest customer is 67 years old.\n",
        "\n",
        "Experience: The average experience of customers is around 20 years, with the majority of customers having between 10 and 30 years of experience. The least experienced customer has 0 years of experience, while the most experienced customer has 43 years of experience.\n",
        "\n",
        "Income: The average income of customers is around 74,000, with the majority of customers having incomes between 40,000 and 120,000. The highest earning customer has an income of 224,000, while the lowest earning customer has an income of $8,000.\n",
        "\n",
        "ZIP Code: The dataset contains customers from 467 different ZIP codes, with the highest number of customers coming from the ZIP code 94720. The majority of ZIP codes have only a few customers.\n",
        "\n",
        "Family: The majority of customers have a family size of 1 or 2, with a smaller number of customers having a family size of 3 or 4.\n",
        "\n",
        "CCAvg: The average credit card spending of customers is around $1,940, with the majority of customers having a spending between 0 and 4,000.\n",
        "\n",
        "Education: The majority of customers have either a graduate or advanced/professional degree, with a smaller number of customers having only an undergraduate degree.\n",
        "\n",
        "Mortgage: The average mortgage value of customers is around 56,000, with the majority of customers having a mortgage value between 0 and 150,000. The highest mortgage value is 635,000.\n",
        "\n",
        "Personal Loan: The majority of customers (around 90%) have not taken a personal loan.\n",
        "\n",
        "Securities Account: The majority of customers (around 90%) do not have a securities account.\n",
        "\n",
        "CD Account: The majority of customers (around 93%) do not have a certificate of deposit account.\n",
        "\n",
        "Online: The majority of customers (around 61%) use online banking services.\n",
        "\n",
        "CreditCard: The majority of customers (around 79%) do not have a credit card with the bank."
      ],
      "metadata": {
        "id": "u8D3YYAzV5jp"
      }
    },
    {
      "cell_type": "markdown",
      "source": [
        "**Personal Loan Analysis by Education Level**"
      ],
      "metadata": {
        "id": "bXi0Pg5th6uM"
      }
    },
    {
      "cell_type": "code",
      "source": [
        "education_counts = df.groupby(['Education', 'Personal Loan']).size().unstack()\n",
        "education_counts['Personal Loan %'] = education_counts[1] / (education_counts[0] + education_counts[1]) * 100\n",
        "education_counts['No Personal Loan %'] = 100 - education_counts['Personal Loan %']\n",
        "print(education_counts)\n"
      ],
      "metadata": {
        "colab": {
          "base_uri": "https://localhost:8080/"
        },
        "id": "s9KKyHq_TKdf",
        "outputId": "c1f67edd-7b5a-4716-92d4-d36edf5b1fb1"
      },
      "execution_count": null,
      "outputs": [
        {
          "output_type": "stream",
          "name": "stdout",
          "text": [
            "Personal Loan     0    1  Personal Loan %  No Personal Loan %\n",
            "Education                                                    \n",
            "1              1987   93         4.471154           95.528846\n",
            "2              1205  182        13.121846           86.878154\n",
            "3              1276  205        13.841999           86.158001\n"
          ]
        }
      ]
    },
    {
      "cell_type": "markdown",
      "source": [
        "Overall, it appears that customers with higher education levels (2 and 3) were more likely to have a personal loan compared to those with an education level of 1. However, the personal loan rate for all education levels combined was relatively low, with less than 14% of customers having a personal loan. Further analysis may be needed to determine the factors that influence a customer's decision to take out a personal loan."
      ],
      "metadata": {
        "id": "EQpFbykhilXm"
      }
    },
    {
      "cell_type": "markdown",
      "source": [
        "**Personal Loan Analysis by Credit Card Ownership**"
      ],
      "metadata": {
        "id": "yrksvoX7iCW7"
      }
    },
    {
      "cell_type": "code",
      "source": [
        "education_counts = df.groupby(['CreditCard', 'Personal Loan']).size().unstack()\n",
        "education_counts['Personal Loan %'] = education_counts[1] / (education_counts[0] + education_counts[1]) * 100\n",
        "education_counts['No Personal Loan %'] = 100 - education_counts['Personal Loan %']\n",
        "print(education_counts)\n"
      ],
      "metadata": {
        "colab": {
          "base_uri": "https://localhost:8080/"
        },
        "id": "d_iDs-dQaeT9",
        "outputId": "c3f11ce2-20b1-4862-9c37-87ae010d9635"
      },
      "execution_count": null,
      "outputs": [
        {
          "output_type": "stream",
          "name": "stdout",
          "text": [
            "Personal Loan     0    1  Personal Loan %  No Personal Loan %\n",
            "CreditCard                                                   \n",
            "0              3156  337         9.647867           90.352133\n",
            "1              1312  143         9.828179           90.171821\n"
          ]
        }
      ]
    },
    {
      "cell_type": "markdown",
      "source": [
        "Based on these results, it appears that there is no significant difference in personal loan rates between customers who own a credit card and those who do not. Both groups had a similar personal loan rate of around 9.7-9.8%. Therefore, credit card ownership alone may not be a strong predictor of a customer's likelihood to take out a personal loan. Further analysis may be necessary to identify other factors that could influence a customer's decision to take out a personal loan."
      ],
      "metadata": {
        "id": "XiRNrwpOj8Co"
      }
    },
    {
      "cell_type": "markdown",
      "source": [
        "**Personal Loan Analysis by Family Size**"
      ],
      "metadata": {
        "id": "4D-9M9YyiOF4"
      }
    },
    {
      "cell_type": "code",
      "source": [
        "Family_counts = df.groupby(['Family', 'Personal Loan']).size().unstack()\n",
        "Family_counts['Personal Loan %'] = Family_counts[1] / (Family_counts[0] + Family_counts[1]) * 100\n",
        "Family_counts['No Personal Loan %'] = 100 - Family_counts['Personal Loan %']\n",
        "print(Family_counts)"
      ],
      "metadata": {
        "colab": {
          "base_uri": "https://localhost:8080/"
        },
        "id": "1kWl-F_Zf3Lv",
        "outputId": "7a3b5d77-cf52-4710-9464-8ba62ccda6e4"
      },
      "execution_count": null,
      "outputs": [
        {
          "output_type": "stream",
          "name": "stdout",
          "text": [
            "Personal Loan     0    1  Personal Loan %  No Personal Loan %\n",
            "Family                                                       \n",
            "1              1363  107         7.278912           92.721088\n",
            "2              1168  106         8.320251           91.679749\n",
            "3               868  133        13.286713           86.713287\n",
            "4              1069  134        11.138820           88.861180\n"
          ]
        }
      ]
    },
    {
      "cell_type": "markdown",
      "source": [
        "Customers with a family size of 3 had the highest personal loan rate at 13.29%, while customers with a family size of 1 had the lowest personal loan rate at 7.28%. Customers with a family size of 2 and 4 had similar personal loan rates at around 8-11%.\n",
        "\n",
        "Overall, these results suggest that family size may be a factor that influences a customer's likelihood to take out a personal loan, with customers from larger families being more likely to take out a personal loan compared to those from smaller families. However, further analysis may be necessary to determine the underlying reasons for this trend."
      ],
      "metadata": {
        "id": "BfIcFqjTkNte"
      }
    },
    {
      "cell_type": "markdown",
      "source": [
        "**Personal Loan Rates by Securities Account Ownership**"
      ],
      "metadata": {
        "id": "lL98VBNtkWaN"
      }
    },
    {
      "cell_type": "code",
      "source": [
        "Securities_Account_counts = df.groupby(['Securities Account', 'Personal Loan']).size().unstack()\n",
        "Securities_Account_counts['Personal Loan %'] = Securities_Account_counts[1] / (Securities_Account_counts[0] + Securities_Account_counts[1]) * 100\n",
        "Securities_Account_counts['No Personal Loan %'] = 100 - Securities_Account_counts['Personal Loan %']\n",
        "print(Securities_Account_counts)"
      ],
      "metadata": {
        "colab": {
          "base_uri": "https://localhost:8080/"
        },
        "id": "nOyiaYqCWvJn",
        "outputId": "9ab6b782-0511-4880-eb7e-9beeddecba94"
      },
      "execution_count": null,
      "outputs": [
        {
          "output_type": "stream",
          "name": "stdout",
          "text": [
            "Personal Loan          0    1  Personal Loan %  No Personal Loan %\n",
            "Securities Account                                                \n",
            "0                   4012  420         9.476534           90.523466\n",
            "1                    456   60        11.627907           88.372093\n"
          ]
        }
      ]
    },
    {
      "cell_type": "markdown",
      "source": [
        "Based on these results, customers who own a securities account appear to be more likely to take out a personal loan compared to those who do not. The personal loan rate for customers with a securities account was 11.63%, while the personal loan rate for those without a securities account was 9.48%.\n",
        "\n",
        "However, it's important to note that the difference in personal loan rates is not very large, so securities account ownership alone may not be a strong predictor of a customer's likelihood to take out a personal loan. Further analysis may be necessary to identify other factors that could influence a customer's decision to take out a personal loan."
      ],
      "metadata": {
        "id": "UFIhZMVpkh33"
      }
    },
    {
      "cell_type": "markdown",
      "source": [
        "**Personal Loan Rates by CD Account Ownership**"
      ],
      "metadata": {
        "id": "lNmtZuuUleeT"
      }
    },
    {
      "cell_type": "code",
      "source": [
        "CD_Account_counts = df.groupby(['CD Account', 'Personal Loan']).size().unstack()\n",
        "CD_Account_counts['Personal Loan %'] = CD_Account_counts[1] / (CD_Account_counts[0] + CD_Account_counts[1]) * 100\n",
        "CD_Account_counts['No Personal Loan %'] = 100 - CD_Account_counts['Personal Loan %']\n",
        "print(CD_Account_counts)"
      ],
      "metadata": {
        "colab": {
          "base_uri": "https://localhost:8080/"
        },
        "id": "PBHIW211YOZh",
        "outputId": "73543f16-7244-4188-9e64-303b8f75e244"
      },
      "execution_count": null,
      "outputs": [
        {
          "output_type": "stream",
          "name": "stdout",
          "text": [
            "Personal Loan     0    1  Personal Loan %  No Personal Loan %\n",
            "CD Account                                                   \n",
            "0              4306  340         7.318123           92.681877\n",
            "1               162  140        46.357616           53.642384\n"
          ]
        }
      ]
    },
    {
      "cell_type": "markdown",
      "source": [
        "Based on the data provided, it can be observed that customers who have a Certificate of Deposit (CD) account are more likely to take out a personal loan than those who do not have a CD account. The personal loan percentage for customers with a CD account is 46.36%, which is significantly higher than the personal loan percentage for customers without a CD account, which is only 7.32%. This information can be useful for banks and financial institutions in targeting their marketing strategies towards customers with CD accounts who may be more inclined to take out personal loans."
      ],
      "metadata": {
        "id": "ydhdtCdQl9iU"
      }
    },
    {
      "cell_type": "markdown",
      "source": [
        "**Personal Loan Rates by Online Banking Services**"
      ],
      "metadata": {
        "id": "4n94eHNRmkhK"
      }
    },
    {
      "cell_type": "code",
      "source": [
        "online_banking_services = df.groupby(['Online', 'Personal Loan']).size().unstack()\n",
        "online_banking_services['Personal Loan %'] = online_banking_services[1] / (online_banking_services[0] + online_banking_services[1]) * 100\n",
        "online_banking_services['No Personal Loan %'] = 100 - online_banking_services['Personal Loan %']\n",
        "print(online_banking_services)"
      ],
      "metadata": {
        "colab": {
          "base_uri": "https://localhost:8080/"
        },
        "id": "7nLWr-jZmDB3",
        "outputId": "fe67527d-380a-46be-f839-f956edefdbf8"
      },
      "execution_count": null,
      "outputs": [
        {
          "output_type": "stream",
          "name": "stdout",
          "text": [
            "Personal Loan     0    1  Personal Loan %  No Personal Loan %\n",
            "Online                                                       \n",
            "0              1805  189         9.478435           90.521565\n",
            "1              2663  291         9.851049           90.148951\n"
          ]
        }
      ]
    },
    {
      "cell_type": "markdown",
      "source": [
        "The data shows that there is no significant difference in personal loan acceptance rates between customers who use online banking services and those who do not. The percentage of customers with personal loans is approximately the same for both groups, at around 9.5%."
      ],
      "metadata": {
        "id": "AqIVsfcgm052"
      }
    },
    {
      "cell_type": "markdown",
      "source": [
        "**Personal Loan Status by Education Level: A Comparative Analysis**"
      ],
      "metadata": {
        "id": "SJThN9WEnBaw"
      }
    },
    {
      "cell_type": "code",
      "source": [
        "education_counts = df.groupby(['Education', 'Personal Loan']).size().unstack()\n",
        "education_counts['Personal Loan %'] = education_counts[1] / (education_counts[0] + education_counts[1]) * 100\n",
        "education_counts['No Personal Loan %'] = 100 - education_counts['Personal Loan %']\n",
        "ax = education_counts[['Personal Loan %', 'No Personal Loan %']].plot.bar(stacked=True)\n",
        "plt.xlabel('Education Level')\n",
        "plt.ylabel('Percentage')\n",
        "plt.title('Personal Loan Status by Education Level')\n",
        "# add legend and set its location\n",
        "plt.legend(bbox_to_anchor=(1.05, 1), loc='upper left')\n",
        "for i in ax.containers:\n",
        "    ax.bar_label(i, label_type='edge', labels=[f'{h:.2f}%' for h in i.datavalues], padding=2)\n",
        "ax.set_xlim([-0.5, 2.5])  # set the x-axis limit\n",
        "ax.set_ylim([0, 130])  # set the y-axis limit\n",
        "ax.set_xticklabels(ax.get_xticklabels(), rotation=0, ha='right')\n",
        "\n",
        "plt.show()\n",
        "\n"
      ],
      "metadata": {
        "colab": {
          "base_uri": "https://localhost:8080/",
          "height": 295
        },
        "id": "1GnlzgU6VPeK",
        "outputId": "a8662576-f76d-4ed9-b58e-d3840be88b82"
      },
      "execution_count": null,
      "outputs": [
        {
          "output_type": "display_data",
          "data": {
            "text/plain": [
              "<Figure size 432x288 with 1 Axes>"
            ],
            "image/png": "[encoded data removed]"
          },
          "metadata": {
            "needs_background": "light"
          }
        }
      ]
    },
    {
      "cell_type": "markdown",
      "source": [
        "**Personal Loan Status by Family Size: A Comparative Analysis**"
      ],
      "metadata": {
        "id": "b0JT8_E5nLbg"
      }
    },
    {
      "cell_type": "code",
      "source": [
        "family_counts = df.groupby(['Family', 'Personal Loan']).size().unstack()\n",
        "family_counts['Personal Loan %'] = family_counts[1] / (family_counts[0] + family_counts[1]) * 100\n",
        "family_counts['No Personal Loan %'] = 100 - family_counts['Personal Loan %']\n",
        "\n",
        "ax = family_counts[['Personal Loan %', 'No Personal Loan %']].plot.bar(stacked=True)\n",
        "ax.set_xlabel('Family Size')\n",
        "ax.set_ylabel('Percentage')\n",
        "ax.set_title('Personal Loan Status by Family Size')\n",
        "\n",
        "# Add legend and set its location\n",
        "plt.legend(bbox_to_anchor=(1.05, 1), loc='upper left')\n",
        "\n",
        "for i in ax.containers:\n",
        "    ax.bar_label(i, label_type='edge', labels=[f'{h:.2f}%' for h in i.datavalues], padding=2)\n",
        "\n",
        "ax.set_xlim([-0.5, 3.5]) # set the x-axis limit\n",
        "ax.set_ylim([0, 130]) # set the y-axis limit\n",
        "\n",
        "ax.tick_params(axis='x', rotation=0, labelsize=8) # rotate and resize x-tick labels\n",
        "\n",
        "plt.show()\n",
        "\n",
        "\n"
      ],
      "metadata": {
        "colab": {
          "base_uri": "https://localhost:8080/",
          "height": 294
        },
        "id": "8d-_yVGvdaJw",
        "outputId": "56cfa716-0dbd-4127-fde4-9c87297f5955"
      },
      "execution_count": null,
      "outputs": [
        {
          "output_type": "display_data",
          "data": {
            "text/plain": [
              "<Figure size 432x288 with 1 Axes>"
            ],
            "image/png": "[encoded data removed]"
          },
          "metadata": {
            "needs_background": "light"
          }
        }
      ]
    },
    {
      "cell_type": "markdown",
      "source": [
        "**Personal Loan Status by Securities Account: A Comparative Analysis**"
      ],
      "metadata": {
        "id": "ePH2gNv-nm1U"
      }
    },
    {
      "cell_type": "code",
      "source": [
        "sec_counts = df.groupby(['Securities Account', 'Personal Loan']).size().unstack()\n",
        "sec_counts['Personal Loan %'] = sec_counts[1] / (sec_counts[0] + sec_counts[1]) * 100\n",
        "sec_counts['No Personal Loan %'] = 100 - sec_counts['Personal Loan %']\n",
        "ax = sec_counts[['Personal Loan %', 'No Personal Loan %']].plot.bar(stacked=True)\n",
        "plt.xlabel('Securities Account')\n",
        "plt.ylabel('Percentage')\n",
        "plt.title('Personal Loan Status by Securities Account')\n",
        "# add legend and set its location\n",
        "plt.legend(bbox_to_anchor=(1.05, 1), loc='upper left')\n",
        "for i in ax.containers:\n",
        "    ax.bar_label(i, label_type='edge', labels=[f'{h:.2f}%' for h in i.datavalues], padding=2)\n",
        "ax.set_xticklabels(ax.get_xticklabels(), rotation=0, ha='right')\n",
        "\n",
        "ax.set_ylim([0, 120])  # set the y-axis limit\n",
        "plt.show()\n"
      ],
      "metadata": {
        "colab": {
          "base_uri": "https://localhost:8080/",
          "height": 295
        },
        "id": "hwNKwzDYefDp",
        "outputId": "787631f6-00a5-4389-fa8e-2abbea26e116"
      },
      "execution_count": null,
      "outputs": [
        {
          "output_type": "display_data",
          "data": {
            "text/plain": [
              "<Figure size 432x288 with 1 Axes>"
            ],
            "image/png": "[encoded data removed]"
          },
          "metadata": {
            "needs_background": "light"
          }
        }
      ]
    },
    {
      "cell_type": "markdown",
      "source": [
        "**Personal Loan Status by CreditCard: A Comparative Analysis**"
      ],
      "metadata": {
        "id": "aCyAWio7nsKV"
      }
    },
    {
      "cell_type": "code",
      "source": [
        "sec_counts = df.groupby(['CreditCard', 'Personal Loan']).size().unstack()\n",
        "sec_counts['Personal Loan %'] = sec_counts[1] / (sec_counts[0] + sec_counts[1]) * 100\n",
        "sec_counts['No Personal Loan %'] = 100 - sec_counts['Personal Loan %']\n",
        "ax = sec_counts[['Personal Loan %', 'No Personal Loan %']].plot.bar(stacked=True)\n",
        "plt.xlabel('CreditCard')\n",
        "plt.ylabel('Percentage')\n",
        "plt.title('Personal Loan Status by CreditCard')\n",
        "# add legend and set its location\n",
        "plt.legend(bbox_to_anchor=(1.05, 1), loc='upper left')\n",
        "for i in ax.containers:\n",
        "    ax.bar_label(i, label_type='edge', labels=[f'{h:.2f}%' for h in i.datavalues], padding=2)\n",
        "ax.set_xticklabels(ax.get_xticklabels(), rotation=0, ha='right')\n",
        "\n",
        "ax.set_ylim([0, 120])  # set the y-axis limit\n",
        "plt.show()"
      ],
      "metadata": {
        "colab": {
          "base_uri": "https://localhost:8080/",
          "height": 295
        },
        "id": "K48hDHoZQdVV",
        "outputId": "fe5dfa0b-f656-42e1-d104-7c2ecb73e3ad"
      },
      "execution_count": null,
      "outputs": [
        {
          "output_type": "display_data",
          "data": {
            "text/plain": [
              "<Figure size 432x288 with 1 Axes>"
            ],
            "image/png": "[encoded data removed]"
          },
          "metadata": {
            "needs_background": "light"
          }
        }
      ]
    },
    {
      "cell_type": "markdown",
      "source": [
        "**Personal Loan Status by CD Account: A Comparative Analysis**"
      ],
      "metadata": {
        "id": "iHfE2EnMnwEE"
      }
    },
    {
      "cell_type": "code",
      "source": [
        "sec_counts = df.groupby(['CD Account', 'Personal Loan']).size().unstack()\n",
        "sec_counts['Personal Loan %'] = sec_counts[1] / (sec_counts[0] + sec_counts[1]) * 100\n",
        "sec_counts['No Personal Loan %'] = 100 - sec_counts['Personal Loan %']\n",
        "ax = sec_counts[['Personal Loan %', 'No Personal Loan %']].plot.bar(stacked=True)\n",
        "plt.xlabel('CD Account')\n",
        "plt.ylabel('Percentage')\n",
        "plt.title('Personal Loan Status by CD Account')\n",
        "# add legend and set its location\n",
        "plt.legend(bbox_to_anchor=(1.05, 1), loc='upper left')\n",
        "for i in ax.containers:\n",
        "    ax.bar_label(i, label_type='edge', labels=[f'{h:.2f}%' for h in i.datavalues], padding=2)\n",
        "ax.set_xticklabels(ax.get_xticklabels(), rotation=0, ha='right')\n",
        "\n",
        "ax.set_ylim([0, 120])  # set the y-axis limit\n",
        "plt.show()"
      ],
      "metadata": {
        "colab": {
          "base_uri": "https://localhost:8080/",
          "height": 295
        },
        "id": "tdhPhAl5X9Ee",
        "outputId": "56399115-1864-49df-e40b-f8d4254b5117"
      },
      "execution_count": null,
      "outputs": [
        {
          "output_type": "display_data",
          "data": {
            "text/plain": [
              "<Figure size 432x288 with 1 Axes>"
            ],
            "image/png": "[encoded data removed]"
          },
          "metadata": {
            "needs_background": "light"
          }
        }
      ]
    },
    {
      "cell_type": "markdown",
      "source": [
        "**Correlation Analysis of Personal Loan with Other Variables in the Dataset**"
      ],
      "metadata": {
        "id": "sSqGuBYBoBD8"
      }
    },
    {
      "cell_type": "code",
      "source": [
        "# Calculate the correlation coefficients\n",
        "correlations = df.corr()['Personal Loan'].drop('Personal Loan')\n",
        "\n",
        "print(correlations)\n"
      ],
      "metadata": {
        "colab": {
          "base_uri": "https://localhost:8080/"
        },
        "id": "rowL3YjDWqqa",
        "outputId": "c669bd91-1e45-4d1e-eaa6-6336523294f7"
      },
      "execution_count": null,
      "outputs": [
        {
          "output_type": "stream",
          "name": "stdout",
          "text": [
            "Age                  -0.014204\n",
            "Experience           -0.014121\n",
            "Income                0.504228\n",
            "ZIP Code              0.000251\n",
            "Family                0.063088\n",
            "CCAvg                 0.369388\n",
            "Education             0.138339\n",
            "Mortgage              0.142322\n",
            "Securities Account    0.022216\n",
            "CD Account            0.315769\n",
            "Online                0.006175\n",
            "CreditCard            0.002776\n",
            "Name: Personal Loan, dtype: float64\n"
          ]
        }
      ]
    },
    {
      "cell_type": "markdown",
      "source": [
        "**Distribution of Mortgage Values by Personal Loan Status: A Box Plot Analysis**"
      ],
      "metadata": {
        "id": "9GCLNE8EoOBW"
      }
    },
    {
      "cell_type": "code",
      "source": [
        "import seaborn as sns\n",
        "import matplotlib.pyplot as plt\n",
        "\n",
        "sns.set_style('whitegrid')\n",
        "\n",
        "# plot the box plot\n",
        "sns.boxplot(x='Personal Loan', y='Mortgage', data=df)\n",
        "\n",
        "# set the title and labels\n",
        "plt.title('Distribution of Mortgage Values by Personal Loan')\n",
        "plt.xlabel('Personal Loan')\n",
        "plt.ylabel('Mortgage')\n",
        "\n",
        "plt.show()\n",
        "\n"
      ],
      "metadata": {
        "colab": {
          "base_uri": "https://localhost:8080/",
          "height": 295
        },
        "id": "nepBBOg-MiwN",
        "outputId": "3df873ed-091b-48c7-e935-0e49858b88da"
      },
      "execution_count": null,
      "outputs": [
        {
          "output_type": "display_data",
          "data": {
            "text/plain": [
              "<Figure size 432x288 with 1 Axes>"
            ],
            "image/png": "[encoded data removed]"
          },
          "metadata": {}
        }
      ]
    },
    {
      "cell_type": "markdown",
      "source": [
        "**Average Mortgage Amount Comparison for Personal Loan Groups: A Bar Chart Analysis**"
      ],
      "metadata": {
        "id": "hDs_n2w8pPqo"
      }
    },
    {
      "cell_type": "code",
      "source": [
        "import matplotlib.pyplot as plt\n",
        "\n",
        "# create a bar chart\n",
        "fig, ax = plt.subplots(figsize=(8,6))\n",
        "\n",
        "# calculate the mean mortgage amount for each personal loan group\n",
        "mean_mortgage = df.groupby('Personal Loan')['Mortgage'].mean()\n",
        "\n",
        "# plot the bars\n",
        "ax.bar(x=mean_mortgage.index, height=mean_mortgage.values, color=['tab:blue', 'tab:orange'])\n",
        "\n",
        "# add labels to the bars\n",
        "for i, v in enumerate(mean_mortgage.values):\n",
        "    ax.text(i, v+2, f\"${v:,.0f}\", ha='center', fontsize=12)\n",
        "\n",
        "# set the title and labels\n",
        "ax.set_title('Average Mortgage Amount by Personal Loan Group')\n",
        "ax.set_xlabel('Personal Loan')\n",
        "ax.set_ylabel('Average Mortgage Amount')\n",
        "ax.set_ylim([0, 110])  # set the y-axis limit\n",
        "\n",
        "plt.show()\n"
      ],
      "metadata": {
        "id": "n_KrkgiINXek",
        "colab": {
          "base_uri": "https://localhost:8080/",
          "height": 404
        },
        "outputId": "4f791450-bd2a-4b1d-c290-d13a88c5af32"
      },
      "execution_count": null,
      "outputs": [
        {
          "output_type": "display_data",
          "data": {
            "text/plain": [
              "<Figure size 576x432 with 1 Axes>"
            ],
            "image/png": "[encoded data removed]"
          },
          "metadata": {}
        }
      ]
    },
    {
      "cell_type": "markdown",
      "source": [
        "**Comparison of Average Mortgage Amount between Personal Loan Groups: A Bar Chart Analysis**"
      ],
      "metadata": {
        "id": "bg61w1uopckf"
      }
    },
    {
      "cell_type": "code",
      "source": [
        "import matplotlib.pyplot as plt\n",
        "import pandas as pd\n",
        "\n",
        "# create a bar chart\n",
        "plt.bar(['No Personal Loan', 'Personal Loan'], \n",
        "        df.groupby('Personal Loan')['Mortgage'].mean(), \n",
        "        color=['tab:blue', 'tab:orange'])\n",
        "\n",
        "# add data values on the bars\n",
        "for i, v in enumerate(df.groupby('Personal Loan')['Mortgage'].mean()):\n",
        "    plt.text(i - 0.1, v + 0.1, str(round(v, 2)), color='black', fontweight='bold')\n",
        "\n",
        "# set the chart title and labels\n",
        "plt.title('Average Mortgage by Personal Loan Status')\n",
        "plt.xlabel('Personal Loan Status')\n",
        "plt.ylabel('Mortgage')\n",
        "\n",
        "ax.set_ylim([0, 150])  # set the y-axis limit\n",
        "\n",
        "# show the chart\n",
        "plt.show()\n",
        "\n"
      ],
      "metadata": {
        "colab": {
          "base_uri": "https://localhost:8080/",
          "height": 295
        },
        "id": "BOHsjXqvNv3R",
        "outputId": "8cd67014-6d6f-475f-9278-4f070a4ec87d"
      },
      "execution_count": null,
      "outputs": [
        {
          "output_type": "display_data",
          "data": {
            "text/plain": [
              "<Figure size 432x288 with 1 Axes>"
            ],
            "image/png": "[encoded data removed]"
          },
          "metadata": {}
        }
      ]
    },
    {
      "cell_type": "markdown",
      "source": [
        "**Average Credit Card Spending by Personal Loan Status**"
      ],
      "metadata": {
        "id": "rq4yNqUBpbex"
      }
    },
    {
      "cell_type": "code",
      "source": [
        "import matplotlib.pyplot as plt\n",
        "import pandas as pd\n",
        "\n",
        "# create a bar chart\n",
        "plt.bar(['No Personal Loan', 'Personal Loan'], \n",
        "        df.groupby('Personal Loan')['CCAvg'].mean(), \n",
        "        color=['tab:blue', 'tab:orange'])\n",
        "\n",
        "# add data values on the bars\n",
        "for i, v in enumerate(df.groupby('Personal Loan')['CCAvg'].mean()):\n",
        "    plt.text(i - 0.1, v + 0.1, str(round(v, 2)), color='black', fontweight='bold')\n",
        "\n",
        "\n",
        "# set the chart title and labels\n",
        "plt.title('Average CCAvg by Personal Loan Status')\n",
        "plt.xlabel('Personal Loan Status')\n",
        "plt.ylabel('CCAvg')\n",
        "\n",
        "# set the y-axis limit\n",
        "plt.ylim(top=5)\n",
        "\n",
        "# show the chart\n",
        "plt.show()\n"
      ],
      "metadata": {
        "colab": {
          "base_uri": "https://localhost:8080/",
          "height": 295
        },
        "id": "qKWOLpxPRVNe",
        "outputId": "43137cfe-f764-4bd0-8181-3c88c71106b3"
      },
      "execution_count": null,
      "outputs": [
        {
          "output_type": "display_data",
          "data": {
            "text/plain": [
              "<Figure size 432x288 with 1 Axes>"
            ],
            "image/png": "[encoded data removed]"
          },
          "metadata": {}
        }
      ]
    },
    {
      "cell_type": "markdown",
      "source": [
        "**Comparison of Numerical Variables by Personal Loan Status using t-tests and ANOVA**"
      ],
      "metadata": {
        "id": "H7UDxboLpz5L"
      }
    },
    {
      "cell_type": "code",
      "source": [
        "import pandas as pd\n",
        "from scipy.stats import ttest_ind, f_oneway\n",
        "\n",
        "\n",
        "\n",
        "# select the categorical variable of interest\n",
        "cat_var = 'Personal Loan'\n",
        "\n",
        "# loop over all numerical variables in the dataframe\n",
        "for num_var in df.select_dtypes(include=['float', 'int']).columns:\n",
        "    \n",
        "    # perform a t-test between the two groups defined by the categorical variable\n",
        "    group1 = df[df[cat_var] == 0][num_var]\n",
        "    group2 = df[df[cat_var] == 1][num_var]\n",
        "    t_stat, p_val = ttest_ind(group1, group2)\n",
        "    print(\"t-statistic for\", num_var, \":\", t_stat)\n",
        "    print(\"p-value for\", num_var, \":\", p_val)\n",
        "    \n",
        "    # perform an ANOVA to test for differences in means between multiple groups defined by the categorical variable\n",
        "    f_stat, p_val = f_oneway(group1, group2)\n",
        "    print(\"F-statistic for\", num_var, \":\", f_stat)\n",
        "    print(\"p-value for\", num_var, \":\", p_val)\n"
      ],
      "metadata": {
        "colab": {
          "base_uri": "https://localhost:8080/"
        },
        "id": "TkzJHCaFpft5",
        "outputId": "88ca7f81-dd0e-42d7-8159-29ef83c495e0"
      },
      "execution_count": null,
      "outputs": [
        {
          "output_type": "stream",
          "name": "stdout",
          "text": [
            "t-statistic for ID : 1.7538959437446855\n",
            "p-value for ID : 0.07950962495747524\n",
            "F-statistic for ID : 3.0761509814840577\n",
            "p-value for ID : 0.0795096249580293\n",
            "t-statistic for Age : 0.5461906615539323\n",
            "p-value for Age : 0.584959263705325\n",
            "F-statistic for Age : 0.2983242387687329\n",
            "p-value for Age : 0.5849592637022671\n",
            "t-statistic for Experience : 0.5240947451995412\n",
            "p-value for Experience : 0.600235883164189\n",
            "F-statistic for Experience : 0.27467530194576933\n",
            "p-value for Experience : 0.6002358831617367\n",
            "t-statistic for Income : -41.08533291207552\n",
            "p-value for Income : 0.0\n",
            "F-statistic for Income : 1688.0045804960757\n",
            "p-value for Income : 3.56029e-318\n",
            "t-statistic for ZIP Code : -0.007591136189874719\n",
            "p-value for ZIP Code : 0.9939435107708496\n",
            "F-statistic for ZIP Code : 5.7625348653161685e-05\n",
            "p-value for ZIP Code : 0.9939435107517727\n",
            "t-statistic for Family : -4.34662958524817\n",
            "p-value for Family : 1.4099040685673807e-05\n",
            "F-statistic for Family : 18.89318875135472\n",
            "p-value for Family : 1.4099040685772551e-05\n",
            "t-statistic for CCAvg : -27.882127015069404\n",
            "p-value for CCAvg : 3.8302661578168557e-159\n",
            "F-statistic for CCAvg : 777.4130068844628\n",
            "p-value for CCAvg : 3.8302661578440865e-159\n",
            "t-statistic for Education : -9.757366156256905\n",
            "p-value for Education : 2.7096631935767285e-22\n",
            "F-statistic for Education : 95.20619430726764\n",
            "p-value for Education : 2.709663193594866e-22\n",
            "t-statistic for Mortgage : -10.148618914431497\n",
            "p-value for Mortgage : 5.73034172157401e-24\n",
            "F-statistic for Mortgage : 102.99446587035675\n",
            "p-value for Mortgage : 5.7303417216119455e-24\n",
            "t-statistic for Personal Loan : -inf\n",
            "p-value for Personal Loan : 0.0\n",
            "F-statistic for Personal Loan : inf\n",
            "p-value for Personal Loan : 0.0\n",
            "t-statistic for Securities Account : -1.5524375545579225\n",
            "p-value for Securities Account : 0.12062087855564664\n",
            "F-statistic for Securities Account : 2.4100623608017813\n",
            "p-value for Securities Account : 0.12062087855646066\n",
            "t-statistic for CD Account : -23.576033174385408\n",
            "p-value for CD Account : 1.2784028484478752e-116\n",
            "F-statistic for CD Account : 555.8293402397213\n",
            "p-value for CD Account : 1.2784028484566596e-116\n",
            "t-statistic for Online : -0.44382853915376774\n",
            "p-value for Online : 0.6571857663873077\n",
            "F-statistic for Online : 0.19698377216736998\n",
            "p-value for Online : 0.6571857663849852\n",
            "t-statistic for CreditCard : -0.1980577438859699\n",
            "p-value for CreditCard : 0.8430079402001929\n",
            "F-statistic for CreditCard : 0.039226869913199965\n",
            "p-value for CreditCard : 0.8430079401986987\n"
          ]
        },
        {
          "output_type": "stream",
          "name": "stderr",
          "text": [
            "<ipython-input-3-4b50b0232236>:15: RuntimeWarning: Precision loss occurred in moment calculation due to catastrophic cancellation. This occurs when the data are nearly identical. Results may be unreliable.\n",
            "  t_stat, p_val = ttest_ind(group1, group2)\n",
            "/usr/local/lib/python3.9/dist-packages/scipy/stats/_stats_py.py:3895: ConstantInputWarning: Each of the input arrays is constant;the F statistic is not defined or infinite\n",
            "  warnings.warn(stats.ConstantInputWarning(msg))\n"
          ]
        }
      ]
    },
    {
      "cell_type": "markdown",
      "source": [
        "**Chi-Square Test of Independence for Personal Loan and Education Level**"
      ],
      "metadata": {
        "id": "1tBSijAnp9dR"
      }
    },
    {
      "cell_type": "code",
      "source": [
        "import pandas as pd\n",
        "import scipy.stats as stats\n",
        "\n",
        "# Create a contingency table of Personal Loan and Securities Account\n",
        "cont_table = pd.crosstab(df['Personal Loan'], df['Education'])\n",
        "\n",
        "# Conduct a chi-square test of independence\n",
        "chi2, p, dof, expected = stats.chi2_contingency(cont_table)\n",
        "\n",
        "# Print the results of the chi-square test\n",
        "print(\"Chi-square statistic: \", chi2)\n",
        "print(\"p-value: \", p)\n",
        "print(\"Degrees of freedom: \", dof)\n",
        "print(\"Expected frequencies: \")\n",
        "print(expected)\n"
      ],
      "metadata": {
        "colab": {
          "base_uri": "https://localhost:8080/"
        },
        "id": "DaC7dEBmtYny",
        "outputId": "831ddd0c-fb7f-4246-af1a-6bfdb515de4b"
      },
      "execution_count": null,
      "outputs": [
        {
          "output_type": "stream",
          "name": "stdout",
          "text": [
            "Chi-square statistic:  111.2398718738913\n",
            "p-value:  6.991473868665428e-25\n",
            "Degrees of freedom:  2\n",
            "Expected frequencies: \n",
            "[[1894.784 1268.312 1356.904]\n",
            " [ 201.216  134.688  144.096]]\n"
          ]
        }
      ]
    },
    {
      "cell_type": "markdown",
      "source": [
        "The chi-square test results suggest that there is a significant association between Personal Loan and Education (p < 0.001). The expected frequencies indicate that individuals with higher education are more likely to take a personal loan compared to those with lower education. Therefore, the education level of an individual is likely to be a significant predictor of whether they take out a personal loan."
      ],
      "metadata": {
        "id": "HA4M7mlzsmCj"
      }
    },
    {
      "cell_type": "markdown",
      "source": [
        "There are many factors that could influence both income and credit card spending, so it's difficult to say without further analysis. However, some possible factors that could affect income and credit card spending include:\n",
        "\n",
        "Age: younger people might have lower income but higher credit card spending.\n",
        "\n",
        "Education: people with higher education may have higher income and more\n",
        "\n",
        "financial literacy, which could influence credit card spending.\n",
        "\n",
        "Occupation: people in certain occupations may have higher income and/or be more likely to use credit cards for business expenses.\n",
        "\n",
        "Location: people living in certain areas may have higher income and/or be more likely to use credit cards for travel or other expenses.\n",
        "\n",
        "Debt: people with higher levels of debt may be more likely to use credit cards, regardless of their income level."
      ],
      "metadata": {
        "id": "E6kRU3nNEEj2"
      }
    },
    {
      "cell_type": "markdown",
      "source": [
        "**Logistic Regression Model for Personal Loan Prediction**"
      ],
      "metadata": {
        "id": "FwE6vxk_Td7I"
      }
    },
    {
      "cell_type": "code",
      "source": [
        "import pandas as pd\n",
        "from sklearn.linear_model import LogisticRegression\n",
        "from sklearn.model_selection import train_test_split\n",
        "from sklearn.metrics import accuracy_score, classification_report\n",
        "\n",
        "\n",
        "# split the dataset into input features (X) and target variable (y)\n",
        "X = df.drop(['Personal Loan'], axis=1) # input features\n",
        "y = df['Personal Loan'] # target variable\n",
        "\n",
        "# split the dataset into training and testing sets\n",
        "X_train, X_test, y_train, y_test = train_test_split(X, y, test_size=0.2, random_state=42)\n",
        "\n",
        "# instantiate logistic regression model\n",
        "lr_model = LogisticRegression()\n",
        "\n",
        "# train the model on the training data\n",
        "lr_model.fit(X_train, y_train)\n",
        "\n",
        "# make predictions on the test data\n",
        "y_pred = lr_model.predict(X_test)\n",
        "\n",
        "# evaluate the performance of the model\n",
        "accuracy = accuracy_score(y_test, y_pred)\n",
        "report = classification_report(y_test, y_pred)\n",
        "print(\"Accuracy:\", accuracy)\n",
        "print(\"Classification report:\\n\", report)\n"
      ],
      "metadata": {
        "colab": {
          "base_uri": "https://localhost:8080/"
        },
        "id": "CWQt57N5EHYj",
        "outputId": "28020c39-84ad-4059-80e7-16a37eead9f2"
      },
      "execution_count": null,
      "outputs": [
        {
          "output_type": "stream",
          "name": "stdout",
          "text": [
            "Accuracy: 0.9272727272727272\n",
            "Classification report:\n",
            "               precision    recall  f1-score   support\n",
            "\n",
            "           0       0.94      0.98      0.96       903\n",
            "           1       0.67      0.33      0.45        87\n",
            "\n",
            "    accuracy                           0.93       990\n",
            "   macro avg       0.81      0.66      0.70       990\n",
            "weighted avg       0.92      0.93      0.92       990\n",
            "\n"
          ]
        }
      ]
    },
    {
      "cell_type": "markdown",
      "source": [
        "This output shows that the logistic regression model has an overall accuracy of 0.93 or 93%. The classification report shows the precision, recall, and F1-score for each class (0 and 1) in the target variable.\n",
        "\n",
        "The precision for class 0 is 0.94, which means that 94% of the customers predicted to not accept a personal loan actually did not accept the loan. The recall for class 0 is 0.98, which means that the model correctly identified 98% of the customers who did not accept a personal loan. The F1-score is 0.96 for class 0.\n",
        "\n",
        "The precision for class 1 is 0.67, which means that 67% of the customers predicted to accept a personal loan actually did accept the loan. The recall for class 1 is 0.33, which means that the model correctly identified only 33% of the customers who accepted a personal loan. The F1-score is 0.45 for class 1.\n",
        "\n",
        "The macro average of precision, recall, and F1-score is computed by taking the average of these metrics across both classes. The weighted average of precision, recall, and F1-score is computed by taking the weighted average of these metrics, weighted by the number of samples in each class.\n",
        "\n",
        "Overall, the logistic regression model seems to perform well in predicting class 0 (customers who do not accept a personal loan) but not as well in predicting class 1 (customers who accept a personal loan). This could be due to class imbalance or other factors."
      ],
      "metadata": {
        "id": "Avs-BbqtWllM"
      }
    },
    {
      "cell_type": "markdown",
      "source": [
        "**Random Forest classifier**\n",
        "\n"
      ],
      "metadata": {
        "id": "8-IfkW0MW8HC"
      }
    },
    {
      "cell_type": "code",
      "source": [
        "from sklearn.ensemble import RandomForestClassifier\n",
        "from sklearn.model_selection import train_test_split\n",
        "from sklearn.metrics import accuracy_score, classification_report\n",
        "\n",
        "# Split the data into training and testing sets\n",
        "X_train, X_test, y_train, y_test = train_test_split(X, y, test_size=0.3, random_state=42)\n",
        "\n",
        "# Create a Random Forest classifier with 100 trees\n",
        "rf = RandomForestClassifier(n_estimators=100, random_state=42)\n",
        "\n",
        "# Train the model on the training data\n",
        "rf.fit(X_train, y_train)\n",
        "\n",
        "# Predict the classes of the testing data\n",
        "y_pred = rf.predict(X_test)\n",
        "\n",
        "# Evaluate the performance of the model\n",
        "accuracy = accuracy_score(y_test, y_pred)\n",
        "report = classification_report(y_test, y_pred)\n",
        "print(f\"Accuracy: {accuracy}\")\n",
        "print(f\"Classification report:\\n{report}\")\n"
      ],
      "metadata": {
        "colab": {
          "base_uri": "https://localhost:8080/"
        },
        "id": "FcbF8CTIWqz4",
        "outputId": "2f61fcfc-6562-4700-e048-67805dd0801b"
      },
      "execution_count": null,
      "outputs": [
        {
          "output_type": "stream",
          "name": "stdout",
          "text": [
            "Accuracy: 0.9831649831649831\n",
            "Classification report:\n",
            "              precision    recall  f1-score   support\n",
            "\n",
            "           0       0.99      1.00      0.99      1356\n",
            "           1       0.96      0.84      0.90       129\n",
            "\n",
            "    accuracy                           0.98      1485\n",
            "   macro avg       0.97      0.92      0.94      1485\n",
            "weighted avg       0.98      0.98      0.98      1485\n",
            "\n"
          ]
        }
      ]
    },
    {
      "cell_type": "markdown",
      "source": [
        "Based on the results provided, the model achieved an accuracy of 0.983, correctly predicting the outcome of the personal loan offer for 98.3% of the samples. The classification report indicates that the model had a high precision for class 0 (0.99), meaning that it correctly identified most customers who would not accept the personal loan offer. For class 1, the precision was 0.96, indicating that out of all the customers who the model predicted would accept the offer, 96% actually did. The recall for class 1 was 0.84, implying that the model correctly identified 84% of the customers who would accept the personal loan offer. The F1-score for class 1 was 0.90, which is a weighted average of the precision and recall for that class. Overall, the results suggest that the model performed well in predicting the outcome of the personal loan offer."
      ],
      "metadata": {
        "id": "NL2fy5WYXPqO"
      }
    },
    {
      "cell_type": "markdown",
      "source": [
        "**Creating a new feature 'TotalIncome' by combining 'Income' and 'CCAvg' columns in a dataset**"
      ],
      "metadata": {
        "id": "yF2QUptWHjPQ"
      }
    },
    {
      "cell_type": "code",
      "source": [
        "df['TotalIncome'] = df['Income'] + df['CCAvg']\n",
        "# Print the first few rows of the updated data\n",
        "df.head()"
      ],
      "metadata": {
        "colab": {
          "base_uri": "https://localhost:8080/",
          "height": 206
        },
        "id": "9v2M7t9IHczA",
        "outputId": "d438d4bf-9844-43bb-9398-30cfdc12d005"
      },
      "execution_count": null,
      "outputs": [
        {
          "output_type": "execute_result",
          "data": {
            "text/plain": [
              "   Age  Experience  Income  ZIP Code  Family  CCAvg  Education  Mortgage  \\\n",
              "0   25           1      49     91107       4    1.6          1         0   \n",
              "1   45          19      34     90089       3    1.5          1         0   \n",
              "2   39          15      11     94720       1    1.0          1         0   \n",
              "3   35           9     100     94112       1    2.7          2         0   \n",
              "4   35           8      45     91330       4    1.0          2         0   \n",
              "\n",
              "   Personal Loan  Securities Account  CD Account  Online  CreditCard  \\\n",
              "0              0                   1           0       0           0   \n",
              "1              0                   1           0       0           0   \n",
              "2              0                   0           0       0           0   \n",
              "3              0                   0           0       0           0   \n",
              "4              0                   0           0       0           1   \n",
              "\n",
              "   TotalIncome  \n",
              "0         50.6  \n",
              "1         35.5  \n",
              "2         12.0  \n",
              "3        102.7  \n",
              "4         46.0  "
            ],
            "text/html": [
              "\n",
              "  <div id=\"df-16fef850-ce0c-4bcc-9231-7dd7277c66bf\">\n",
              "    <div class=\"colab-df-container\">\n",
              "      <div>\n",
              "<style scoped>\n",
              "    .dataframe tbody tr th:only-of-type {\n",
              "        vertical-align: middle;\n",
              "    }\n",
              "\n",
              "    .dataframe tbody tr th {\n",
              "        vertical-align: top;\n",
              "    }\n",
              "\n",
              "    .dataframe thead th {\n",
              "        text-align: right;\n",
              "    }\n",
              "</style>\n",
              "<table border=\"1\" class=\"dataframe\">\n",
              "  <thead>\n",
              "    <tr style=\"text-align: right;\">\n",
              "      <th></th>\n",
              "      <th>Age</th>\n",
              "      <th>Experience</th>\n",
              "      <th>Income</th>\n",
              "      <th>ZIP Code</th>\n",
              "      <th>Family</th>\n",
              "      <th>CCAvg</th>\n",
              "      <th>Education</th>\n",
              "      <th>Mortgage</th>\n",
              "      <th>Personal Loan</th>\n",
              "      <th>Securities Account</th>\n",
              "      <th>CD Account</th>\n",
              "      <th>Online</th>\n",
              "      <th>CreditCard</th>\n",
              "      <th>TotalIncome</th>\n",
              "    </tr>\n",
              "  </thead>\n",
              "  <tbody>\n",
              "    <tr>\n",
              "      <th>0</th>\n",
              "      <td>25</td>\n",
              "      <td>1</td>\n",
              "      <td>49</td>\n",
              "      <td>91107</td>\n",
              "      <td>4</td>\n",
              "      <td>1.6</td>\n",
              "      <td>1</td>\n",
              "      <td>0</td>\n",
              "      <td>0</td>\n",
              "      <td>1</td>\n",
              "      <td>0</td>\n",
              "      <td>0</td>\n",
              "      <td>0</td>\n",
              "      <td>50.6</td>\n",
              "    </tr>\n",
              "    <tr>\n",
              "      <th>1</th>\n",
              "      <td>45</td>\n",
              "      <td>19</td>\n",
              "      <td>34</td>\n",
              "      <td>90089</td>\n",
              "      <td>3</td>\n",
              "      <td>1.5</td>\n",
              "      <td>1</td>\n",
              "      <td>0</td>\n",
              "      <td>0</td>\n",
              "      <td>1</td>\n",
              "      <td>0</td>\n",
              "      <td>0</td>\n",
              "      <td>0</td>\n",
              "      <td>35.5</td>\n",
              "    </tr>\n",
              "    <tr>\n",
              "      <th>2</th>\n",
              "      <td>39</td>\n",
              "      <td>15</td>\n",
              "      <td>11</td>\n",
              "      <td>94720</td>\n",
              "      <td>1</td>\n",
              "      <td>1.0</td>\n",
              "      <td>1</td>\n",
              "      <td>0</td>\n",
              "      <td>0</td>\n",
              "      <td>0</td>\n",
              "      <td>0</td>\n",
              "      <td>0</td>\n",
              "      <td>0</td>\n",
              "      <td>12.0</td>\n",
              "    </tr>\n",
              "    <tr>\n",
              "      <th>3</th>\n",
              "      <td>35</td>\n",
              "      <td>9</td>\n",
              "      <td>100</td>\n",
              "      <td>94112</td>\n",
              "      <td>1</td>\n",
              "      <td>2.7</td>\n",
              "      <td>2</td>\n",
              "      <td>0</td>\n",
              "      <td>0</td>\n",
              "      <td>0</td>\n",
              "      <td>0</td>\n",
              "      <td>0</td>\n",
              "      <td>0</td>\n",
              "      <td>102.7</td>\n",
              "    </tr>\n",
              "    <tr>\n",
              "      <th>4</th>\n",
              "      <td>35</td>\n",
              "      <td>8</td>\n",
              "      <td>45</td>\n",
              "      <td>91330</td>\n",
              "      <td>4</td>\n",
              "      <td>1.0</td>\n",
              "      <td>2</td>\n",
              "      <td>0</td>\n",
              "      <td>0</td>\n",
              "      <td>0</td>\n",
              "      <td>0</td>\n",
              "      <td>0</td>\n",
              "      <td>1</td>\n",
              "      <td>46.0</td>\n",
              "    </tr>\n",
              "  </tbody>\n",
              "</table>\n",
              "</div>\n",
              "      <button class=\"colab-df-convert\" onclick=\"convertToInteractive('df-16fef850-ce0c-4bcc-9231-7dd7277c66bf')\"\n",
              "              title=\"Convert this dataframe to an interactive table.\"\n",
              "              style=\"display:none;\">\n",
              "        \n",
              "  <svg xmlns=\"http://www.w3.org/2000/svg\" height=\"24px\"viewBox=\"0 0 24 24\"\n",
              "       width=\"24px\">\n",
              "    <path d=\"M0 0h24v24H0V0z\" fill=\"none\"/>\n",
              "    <path d=\"M18.56 5.44l.94 2.06.94-2.06 2.06-.94-2.06-.94-.94-2.06-.94 2.06-2.06.94zm-11 1L8.5 8.5l.94-2.06 2.06-.94-2.06-.94L8.5 2.5l-.94 2.06-2.06.94zm10 10l.94 2.06.94-2.06 2.06-.94-2.06-.94-.94-2.06-.94 2.06-2.06.94z\"/><path d=\"M17.41 7.96l-1.37-1.37c-.4-.4-.92-.59-1.43-.59-.52 0-1.04.2-1.43.59L10.3 9.45l-7.72 7.72c-.78.78-.78 2.05 0 2.83L4 21.41c.39.39.9.59 1.41.59.51 0 1.02-.2 1.41-.59l7.78-7.78 2.81-2.81c.8-.78.8-2.07 0-2.86zM5.41 20L4 18.59l7.72-7.72 1.47 1.35L5.41 20z\"/>\n",
              "  </svg>\n",
              "      </button>\n",
              "      \n",
              "  <style>\n",
              "    .colab-df-container {\n",
              "      display:flex;\n",
              "      flex-wrap:wrap;\n",
              "      gap: 12px;\n",
              "    }\n",
              "\n",
              "    .colab-df-convert {\n",
              "      background-color: #E8F0FE;\n",
              "      border: none;\n",
              "      border-radius: 50%;\n",
              "      cursor: pointer;\n",
              "      display: none;\n",
              "      fill: #1967D2;\n",
              "      height: 32px;\n",
              "      padding: 0 0 0 0;\n",
              "      width: 32px;\n",
              "    }\n",
              "\n",
              "    .colab-df-convert:hover {\n",
              "      background-color: #E2EBFA;\n",
              "      box-shadow: 0px 1px 2px rgba(60, 64, 67, 0.3), 0px 1px 3px 1px rgba(60, 64, 67, 0.15);\n",
              "      fill: #174EA6;\n",
              "    }\n",
              "\n",
              "    [theme=dark] .colab-df-convert {\n",
              "      background-color: #3B4455;\n",
              "      fill: #D2E3FC;\n",
              "    }\n",
              "\n",
              "    [theme=dark] .colab-df-convert:hover {\n",
              "      background-color: #434B5C;\n",
              "      box-shadow: 0px 1px 3px 1px rgba(0, 0, 0, 0.15);\n",
              "      filter: drop-shadow(0px 1px 2px rgba(0, 0, 0, 0.3));\n",
              "      fill: #FFFFFF;\n",
              "    }\n",
              "  </style>\n",
              "\n",
              "      <script>\n",
              "        const buttonEl =\n",
              "          document.querySelector('#df-16fef850-ce0c-4bcc-9231-7dd7277c66bf button.colab-df-convert');\n",
              "        buttonEl.style.display =\n",
              "          google.colab.kernel.accessAllowed ? 'block' : 'none';\n",
              "\n",
              "        async function convertToInteractive(key) {\n",
              "          const element = document.querySelector('#df-16fef850-ce0c-4bcc-9231-7dd7277c66bf');\n",
              "          const dataTable =\n",
              "            await google.colab.kernel.invokeFunction('convertToInteractive',\n",
              "                                                     [key], {});\n",
              "          if (!dataTable) return;\n",
              "\n",
              "          const docLinkHtml = 'Like what you see? Visit the ' +\n",
              "            '<a target=\"_blank\" href=https://colab.research.google.com/notebooks/data_table.ipynb>data table notebook</a>'\n",
              "            + ' to learn more about interactive tables.';\n",
              "          element.innerHTML = '';\n",
              "          dataTable['output_type'] = 'display_data';\n",
              "          await google.colab.output.renderOutput(dataTable, element);\n",
              "          const docLink = document.createElement('div');\n",
              "          docLink.innerHTML = docLinkHtml;\n",
              "          element.appendChild(docLink);\n",
              "        }\n",
              "      </script>\n",
              "    </div>\n",
              "  </div>\n",
              "  "
            ]
          },
          "metadata": {},
          "execution_count": 18
        }
      ]
    },
    {
      "cell_type": "markdown",
      "source": [
        "**Feature Selection Techniques for Improved Model Performance**"
      ],
      "metadata": {
        "id": "7XbyzTivOFFO"
      }
    },
    {
      "cell_type": "code",
      "source": [
        "from sklearn.feature_selection import SelectKBest\n",
        "from sklearn.feature_selection import chi2\n",
        "\n",
        "# Select the top 5 features\n",
        "k = 5\n",
        "X = df.drop('Personal Loan', axis=1)\n",
        "y = df['Personal Loan']\n",
        "selector = SelectKBest(chi2, k=k)\n",
        "X_new = selector.fit_transform(X, y)\n",
        "\n",
        "# Get the indices of the selected features\n",
        "selected_features = X.columns[selector.get_support(indices=True)].tolist()\n",
        "\n",
        "# Print the selected features\n",
        "print(\"Selected Features: \")\n",
        "print(selected_features)\n"
      ],
      "metadata": {
        "colab": {
          "base_uri": "https://localhost:8080/"
        },
        "id": "3wlo8xd9Iiwo",
        "outputId": "c724e51c-55d0-42b9-a052-945a72f8dac6"
      },
      "execution_count": null,
      "outputs": [
        {
          "output_type": "stream",
          "name": "stdout",
          "text": [
            "Selected Features: \n",
            "['Income', 'CCAvg', 'Mortgage', 'CD Account', 'TotalIncome']\n"
          ]
        }
      ]
    },
    {
      "cell_type": "markdown",
      "source": [
        "**Random Forest Classifier for Personal Loan Prediction using Financial Features**"
      ],
      "metadata": {
        "id": "wYP8cXjsTuwY"
      }
    },
    {
      "cell_type": "code",
      "source": [
        "from sklearn.ensemble import RandomForestClassifier\n",
        "from sklearn.model_selection import train_test_split\n",
        "from sklearn.metrics import accuracy_score\n",
        "\n",
        "# Create X and y\n",
        "X = df[['Income', 'CCAvg', 'Mortgage', 'CD Account', 'TotalIncome']]\n",
        "y = df['Personal Loan']\n",
        "\n",
        "# Split the data into training and testing sets\n",
        "X_train, X_test, y_train, y_test = train_test_split(X, y, test_size=0.2, random_state=42)\n",
        "\n",
        "# Train a random forest classifier with 100 trees\n",
        "rfc = RandomForestClassifier(n_estimators=100, random_state=42)\n",
        "rfc.fit(X_train, y_train)\n",
        "\n",
        "# Predict the target variable for the test data\n",
        "y_pred = rfc.predict(X_test)\n",
        "\n",
        "# Calculate the accuracy score of the model\n",
        "accuracy = accuracy_score(y_test, y_pred)\n",
        "report = classification_report(y_test, y_pred)\n",
        "print(f\"Accuracy: {accuracy}\")\n",
        "print(f\"Classification report:\\n{report}\")\n"
      ],
      "metadata": {
        "colab": {
          "base_uri": "https://localhost:8080/"
        },
        "id": "AvWhVo2PJpRC",
        "outputId": "03f4a348-f759-4672-a189-24465c943b0d"
      },
      "execution_count": null,
      "outputs": [
        {
          "output_type": "stream",
          "name": "stdout",
          "text": [
            "Accuracy: 0.9272727272727272\n",
            "Classification report:\n",
            "              precision    recall  f1-score   support\n",
            "\n",
            "           0       0.95      0.97      0.96       903\n",
            "           1       0.61      0.47      0.53        87\n",
            "\n",
            "    accuracy                           0.93       990\n",
            "   macro avg       0.78      0.72      0.75       990\n",
            "weighted avg       0.92      0.93      0.92       990\n",
            "\n"
          ]
        }
      ]
    },
    {
      "cell_type": "markdown",
      "source": [
        "The initial model, which did not include the new feature, had a higher accuracy of 0.983 and better performance in terms of precision, recall, and F1-score for both classes. However, the model with the new feature had a lower accuracy of 0.927 and lower performance in terms of precision, recall, and F1-score for class 1."
      ],
      "metadata": {
        "id": "lPQKbJFAKxLy"
      }
    },
    {
      "cell_type": "markdown",
      "source": [
        "Based on the results, it seems that adding the new feature of total income did not improve the performance of the model. In fact, it decreased the accuracy and f1-score for the positive class (i.e., customers who are likely to accept the personal loan offer)."
      ],
      "metadata": {
        "id": "AHBrZWDlNoSL"
      }
    },
    {
      "cell_type": "markdown",
      "source": [
        "**Feature selection using Recursive Feature Elimination (RFE) with Random Forest Classifier.**"
      ],
      "metadata": {
        "id": "SRfiCD2FNsyW"
      }
    },
    {
      "cell_type": "code",
      "source": [
        "from sklearn.feature_selection import SelectKBest\n",
        "from sklearn.feature_selection import chi2\n",
        "\n",
        "# Split data into X and y\n",
        "X = df.drop('Personal Loan', axis=1)\n",
        "y = df['Personal Loan']\n",
        "\n",
        "# Use SelectKBest to select the 5 most important features\n",
        "selector = SelectKBest(chi2, k=5)\n",
        "X_new = selector.fit_transform(X, y)\n",
        "\n",
        "# Get the indices of the selected features\n",
        "idxs_selected = selector.get_support(indices=True)\n",
        "\n",
        "# Create a list of the selected feature names\n",
        "features_selected = list(X.columns[idxs_selected])\n",
        "\n",
        "# Print the selected feature names\n",
        "print(features_selected)\n"
      ],
      "metadata": {
        "colab": {
          "base_uri": "https://localhost:8080/"
        },
        "id": "qzapRVPEKzHg",
        "outputId": "85596daa-6aee-46e9-993e-74498eacc1dd"
      },
      "execution_count": null,
      "outputs": [
        {
          "output_type": "stream",
          "name": "stdout",
          "text": [
            "['Income', 'CCAvg', 'Mortgage', 'CD Account', 'TotalIncome']\n"
          ]
        }
      ]
    },
    {
      "cell_type": "markdown",
      "source": [
        "The feature selection techniques of selecting the five most important features and using a random forest with the default parameters gave the same results for this particular dataset. Therefore, it is suggested to consider the trade-off between model performance and complexity when deciding which features to include in the model. It may also be worth trying other feature selection techniques to identify the most relevant features and see if they improve the model's performance."
      ],
      "metadata": {
        "id": "wk0MzpYiOf-n"
      }
    },
    {
      "cell_type": "markdown",
      "source": [
        "**Building a Regression Model for Predicting Customer Income**\n",
        "\n",
        "\n",
        "\n"
      ],
      "metadata": {
        "id": "h5Qa5sE0O8Ip"
      }
    },
    {
      "cell_type": "code",
      "source": [
        "from sklearn.linear_model import LinearRegression\n",
        "from sklearn.model_selection import train_test_split\n",
        "from sklearn.metrics import mean_squared_error, r2_score, mean_absolute_error\n",
        "import pandas as pd\n",
        "import numpy as np\n",
        "\n",
        "# select the features and target variable\n",
        "X = df[['Age', 'Experience', 'Family', 'CCAvg', 'Education', 'Mortgage', 'Securities Account', 'CD Account', 'Online', 'CreditCard']]\n",
        "y = df['Income']\n",
        "\n",
        "# split the dataset into training and testing sets\n",
        "X_train, X_test, y_train, y_test = train_test_split(X, y, test_size=0.3, random_state=0)\n",
        "\n",
        "# fit the linear regression model to the training data\n",
        "regressor = LinearRegression()\n",
        "regressor.fit(X_train, y_train)\n",
        "\n",
        "# make predictions on the testing data\n",
        "y_pred = regressor.predict(X_test)\n",
        "\n",
        "# calculate performance metrics\n",
        "rmse = np.sqrt(mean_squared_error(y_test, y_pred))\n",
        "mae = mean_absolute_error(y_test, y_pred)\n",
        "adj_r2 = 1 - (1 - r2_score(y_test, y_pred)) * (len(y_test) - 1) / (len(y_test) - X_test.shape[1] - 1)\n",
        "aic = len(y_test) * np.log(mean_squared_error(y_test, y_pred)) + 2 * X_test.shape[1]\n",
        "\n",
        "# print the performance metrics\n",
        "print('R-squared score:', r2_score(y_test, y_pred))\n",
        "print('Mean squared error:', mean_squared_error(y_test, y_pred))\n",
        "print('Root mean squared error:', rmse)\n",
        "print('Mean absolute error:', mae)\n",
        "print('Adjusted R-squared:', adj_r2)\n",
        "print('AIC:', aic)\n",
        "\n"
      ],
      "metadata": {
        "colab": {
          "base_uri": "https://localhost:8080/"
        },
        "id": "jM0AsiI_jrNm",
        "outputId": "a205edc4-400e-459e-a58e-6edb88503d63"
      },
      "execution_count": null,
      "outputs": [
        {
          "output_type": "stream",
          "name": "stdout",
          "text": [
            "R-squared score: 0.4482618247555643\n",
            "Mean squared error: 1204.71814858258\n",
            "Root mean squared error: 34.70904995217501\n",
            "Mean absolute error: 27.218390752104632\n",
            "Adjusted R-squared: 0.4445186892383022\n",
            "AIC: 10554.591361706824\n"
          ]
        }
      ]
    },
    {
      "cell_type": "markdown",
      "source": [
        "Based on the results, the model has a moderate fit with an R-squared score of 0.45, indicating that approximately **45% of the variance **in the target variable can be explained by the independent variables. The mean absolute error (MAE) of the model is 27.22, which means that on average, the predicted income values are **off by around $27,000**. The root mean squared error (RMSE) is 34.71, which is the square root of the mean squared error (MSE) and represents the average difference between the predicted and actual values.\n",
        "\n",
        "The adjusted R-squared score takes into account the number of independent variables in the model and penalizes the model for including unnecessary variables. In this case, the adjusted R-squared is 0.44, indicating that the model may be slightly overfitting the data.\n",
        "\n",
        "The AIC (Akaike Information Criterion) is a measure of the quality of a statistical model, which penalizes models for including additional independent variables. A lower AIC value indicates a better model fit. In this case, the AIC value is 10,554, which is quite high, **indicating that the model may not be the best fit for the data.**"
      ],
      "metadata": {
        "id": "3_r7P2tll2Ys"
      }
    },
    {
      "cell_type": "markdown",
      "source": [
        "After training and testing a linear regression model on the customer income data, the following performance metrics were obtained:\n",
        "\n",
        "R-squared score: 0.45\n",
        "\n",
        "Mean squared error: 1204.72\n",
        "\n",
        "Root mean squared error: 34.71\n",
        "\n",
        "Mean absolute error: 27.22\n",
        "\n",
        "Adjusted R-squared: 0.45\n",
        "\n",
        "AIC: 10554.59\n",
        "\n",
        "These results suggest that the **linear regression model is not a good fit** for the data and other regression algorithms should be considered for predicting customer income."
      ],
      "metadata": {
        "id": "5SO8p-04mKWe"
      }
    },
    {
      "cell_type": "markdown",
      "source": [
        "**Polynomial Regression for Customer Income Prediction**"
      ],
      "metadata": {
        "id": "j-6msKEcmLLQ"
      }
    },
    {
      "cell_type": "code",
      "source": [
        "# import necessary libraries\n",
        "import numpy as np\n",
        "import pandas as pd\n",
        "from sklearn.model_selection import train_test_split\n",
        "from sklearn.preprocessing import PolynomialFeatures\n",
        "from sklearn.linear_model import LinearRegression\n",
        "from sklearn.metrics import mean_squared_error, r2_score, mean_absolute_error\n",
        "\n",
        "# select the features and target variable\n",
        "X = df.drop(['Income'], axis=1)\n",
        "y = df['Income']\n",
        "\n",
        "# split the dataset into training and testing sets\n",
        "X_train, X_test, y_train, y_test = train_test_split(X, y, test_size=0.2, random_state=42)\n",
        "\n",
        "# create polynomial features\n",
        "poly_features = PolynomialFeatures(degree=2)\n",
        "X_train_poly = poly_features.fit_transform(X_train)\n",
        "X_test_poly = poly_features.transform(X_test)\n",
        "\n",
        "# train the polynomial regression model\n",
        "poly_reg = LinearRegression()\n",
        "poly_reg.fit(X_train_poly, y_train)\n",
        "\n",
        "# calculate predicted values\n",
        "y_pred = poly_reg.predict(X_test_poly)\n",
        "\n",
        "# calculate performance metrics\n",
        "rmse = np.sqrt(mean_squared_error(y_test, y_pred))\n",
        "mae = mean_absolute_error(y_test, y_pred)\n",
        "adj_r2 = 1 - (1 - r2_score(y_test, y_pred)) * (len(y_test) - 1) / (len(y_test) - X_test.shape[1] - 1)\n",
        "aic = len(y_test) * np.log(mean_squared_error(y_test, y_pred)) + 2 * X_test.shape[1]\n",
        "\n",
        "# print performance metrics\n",
        "print('R-squared score:', r2_score(y_test, y_pred))\n",
        "print('Mean squared error:', mean_squared_error(y_test, y_pred))\n",
        "print('Root mean squared error:', rmse)\n",
        "print('Mean absolute error:', mae)\n",
        "print('Adjusted R-squared:', adj_r2)\n",
        "print('AIC:', aic)\n"
      ],
      "metadata": {
        "colab": {
          "base_uri": "https://localhost:8080/"
        },
        "id": "rCuynO6Fl29s",
        "outputId": "c2a368a8-25d4-4c0a-82a5-0ec36d2e0d7f"
      },
      "execution_count": null,
      "outputs": [
        {
          "output_type": "stream",
          "name": "stdout",
          "text": [
            "R-squared score: 0.5918571082880246\n",
            "Mean squared error: 802.7384747762582\n",
            "Root mean squared error: 28.332639742464135\n",
            "Mean absolute error: 22.229807072619185\n",
            "Adjusted R-squared: 0.5868440942649502\n",
            "AIC: 6645.14868593278\n"
          ]
        }
      ]
    },
    {
      "cell_type": "markdown",
      "source": [
        "The polynomial regression model was trained and evaluated using the provided dataset. \n",
        "\n",
        "The R-squared score of 0.592 indicates that approximately 59.2% of the variation in the target variable can be explained by the independent variables in the model. \n",
        "\n",
        "The Mean squared error of 802.74 indicates that on average, the predicted values deviate from the true values by 802.74 units. \n",
        "\n",
        "The Root mean squared error of 28.33 indicates that the model's predictions are typically off by approximately 28.33 units. \n",
        "\n",
        "The Mean absolute error of 22.23 indicates that on average, the model's predictions deviate from the true values by approximately 22.23 units. \n",
        "\n",
        "The Adjusted R-squared score of 0.587 indicates that the model's fit is still significant, even after adjusting for the number of independent variables. \n",
        "\n",
        "The AIC value of 6645.15 measures the quality of the model and can be used to compare different models, with lower values indicating a better fit. Overall, the model seems to perform reasonably well."
      ],
      "metadata": {
        "id": "XLqgkEN9tbQt"
      }
    },
    {
      "cell_type": "markdown",
      "source": [
        "**Clustering Customers using K-Means Algorithm to Identify Patterns in Age, Income, and Education**"
      ],
      "metadata": {
        "id": "wJc8zV2Ntn1d"
      }
    },
    {
      "cell_type": "code",
      "source": [
        "import pandas as pd\n",
        "from sklearn.cluster import KMeans\n",
        "from sklearn.preprocessing import StandardScaler\n",
        "\n",
        "\n",
        "# select features for clustering\n",
        "X = df[['Age', 'Income', 'Education']]\n",
        "\n",
        "# standardize the data\n",
        "scaler = StandardScaler()\n",
        "X_std = scaler.fit_transform(X)\n",
        "\n",
        "# create k-means object with 3 clusters\n",
        "kmeans = KMeans(n_clusters=3)\n",
        "\n",
        "# fit k-means model to the data\n",
        "kmeans.fit(X_std)\n",
        "\n",
        "# predict cluster labels for each data point\n",
        "labels = kmeans.predict(X_std)\n",
        "\n",
        "# add cluster labels to the original dataframe\n",
        "df['Cluster'] = labels\n",
        "\n",
        "# print number of customers in each cluster\n",
        "print(df['Cluster'].value_counts())\n"
      ],
      "metadata": {
        "colab": {
          "base_uri": "https://localhost:8080/"
        },
        "id": "LMCbvMhXxPgP",
        "outputId": "6f041b21-3ede-452c-f9ee-7d0f5d2ba58a"
      },
      "execution_count": null,
      "outputs": [
        {
          "output_type": "stream",
          "name": "stderr",
          "text": [
            "/usr/local/lib/python3.9/dist-packages/sklearn/cluster/_kmeans.py:870: FutureWarning: The default value of `n_init` will change from 10 to 'auto' in 1.4. Set the value of `n_init` explicitly to suppress the warning\n",
            "  warnings.warn(\n"
          ]
        },
        {
          "output_type": "stream",
          "name": "stdout",
          "text": [
            "0    1988\n",
            "2    1874\n",
            "1    1086\n",
            "Name: Cluster, dtype: int64\n"
          ]
        }
      ]
    },
    {
      "cell_type": "markdown",
      "source": [
        "To gain insights into what each cluster represents and what the differences between them are, you can perform the following steps:\n",
        "\n",
        "Visualize the clusters: Plot the data points on a graph with different colors or shapes for each cluster to get a sense of the distribution of the data.\n",
        "\n",
        "Analyze the cluster centroids: The centroid of each cluster represents the average values of the features for the data points in that cluster. You can analyze the differences between the centroids of different clusters to understand what distinguishes them.\n",
        "\n",
        "Conduct hypothesis testing: You can conduct hypothesis testing to determine if there are significant differences between the clusters in terms of the features. For example, you can conduct t-tests or ANOVA tests to determine if there are significant differences in the means of the features between the clusters.\n",
        "\n",
        "Use domain knowledge: It is also important to use domain knowledge to interpret the results of the analysis. For example, if you are clustering customers based on their purchase behavior, you may want to consult with marketing experts to understand what the different clusters represent in terms of customer segments.\n",
        "\n",
        "By combining these approaches, you can gain a better understanding of what each cluster represents and what the differences between them are."
      ],
      "metadata": {
        "id": "XM63fqrTxtEY"
      }
    },
    {
      "cell_type": "markdown",
      "source": [
        "**Clustering Analysis Using K-means on Age and Income Features**"
      ],
      "metadata": {
        "id": "LpGLoCg_B_jw"
      }
    },
    {
      "cell_type": "code",
      "source": [
        "from sklearn.cluster import KMeans\n",
        "from sklearn.preprocessing import StandardScaler\n",
        "\n",
        "# select features for clustering\n",
        "X = df[['Age', 'Income', 'Education', 'Family']]\n",
        "\n",
        "# standardize the data\n",
        "scaler = StandardScaler()\n",
        "X_std = scaler.fit_transform(X)\n",
        "\n",
        "# create k-means object with 3 clusters\n",
        "kmeans = KMeans(n_clusters=3)\n",
        "\n",
        "# fit k-means model to the data\n",
        "kmeans.fit(X_std)\n",
        "\n",
        "# predict cluster labels for each data point\n",
        "labels = kmeans.predict(X_std)\n",
        "\n",
        "# add cluster labels to the original dataframe\n",
        "df['Cluster'] = labels\n",
        "\n",
        "# print number of customers in each cluster\n",
        "print(df['Cluster'].value_counts())\n",
        "\n",
        "# plot the clusters\n",
        "fig, ax = plt.subplots(figsize=(8, 6))\n",
        "scatter = ax.scatter(X.iloc[:, 0], X.iloc[:, 1], c=labels, cmap='viridis')\n",
        "ax.set_xlabel('Age')\n",
        "ax.set_ylabel('Income')\n",
        "legend = ax.legend(*scatter.legend_elements(), loc=\"upper right\", title=\"Cluster\")\n",
        "plt.show()\n"
      ],
      "metadata": {
        "colab": {
          "base_uri": "https://localhost:8080/",
          "height": 512
        },
        "id": "9-YOyl2ixtpZ",
        "outputId": "baefc36e-851d-4544-b900-f5505bd3d394"
      },
      "execution_count": null,
      "outputs": [
        {
          "output_type": "stream",
          "name": "stderr",
          "text": [
            "/usr/local/lib/python3.9/dist-packages/sklearn/cluster/_kmeans.py:870: FutureWarning: The default value of `n_init` will change from 10 to 'auto' in 1.4. Set the value of `n_init` explicitly to suppress the warning\n",
            "  warnings.warn(\n"
          ]
        },
        {
          "output_type": "stream",
          "name": "stdout",
          "text": [
            "1    1939\n",
            "0    1597\n",
            "2    1412\n",
            "Name: Cluster, dtype: int64\n"
          ]
        },
        {
          "output_type": "display_data",
          "data": {
            "text/plain": [
              "<Figure size 576x432 with 1 Axes>"
            ],
            "image/png": "[encoded data removed]"
          },
          "metadata": {}
        }
      ]
    },
    {
      "cell_type": "markdown",
      "source": [
        "**Clustering analysis using K-means and PCA on Age, Income, and Education**"
      ],
      "metadata": {
        "id": "rWPXWYJMB9Yo"
      }
    },
    {
      "cell_type": "code",
      "source": [
        "from sklearn.decomposition import PCA\n",
        "\n",
        "# select features for clustering\n",
        "X = df[['Age', 'Income', 'Education', 'Family']]\n",
        "\n",
        "# standardize the data\n",
        "scaler = StandardScaler()\n",
        "X_std = scaler.fit_transform(X)\n",
        "\n",
        "# create k-means object with 3 clusters\n",
        "kmeans = KMeans(n_clusters=3)\n",
        "\n",
        "# fit k-means model to the data\n",
        "kmeans.fit(X_std)\n",
        "\n",
        "# predict cluster labels for each data point\n",
        "labels = kmeans.predict(X_std)\n",
        "\n",
        "# add cluster labels to the original dataframe\n",
        "df['Cluster'] = labels\n",
        "\n",
        "# apply PCA to the standardized data\n",
        "pca = PCA(n_components=2)\n",
        "X_pca = pca.fit_transform(X_std)\n",
        "\n",
        "# plot the data points with different colors for each cluster\n",
        "plt.scatter(X_pca[:, 0], X_pca[:, 1], c=df['Cluster'], cmap='viridis')\n",
        "plt.xlabel('Principal Component 1')\n",
        "plt.ylabel('Principal Component 2')\n",
        "plt.title('Clustering results with PCA')\n",
        "plt.show()\n"
      ],
      "metadata": {
        "colab": {
          "base_uri": "https://localhost:8080/",
          "height": 350
        },
        "id": "hvGvMNfeyoIO",
        "outputId": "8df28086-9d18-4d71-e8bd-b711c0a80a0f"
      },
      "execution_count": null,
      "outputs": [
        {
          "output_type": "stream",
          "name": "stderr",
          "text": [
            "/usr/local/lib/python3.9/dist-packages/sklearn/cluster/_kmeans.py:870: FutureWarning: The default value of `n_init` will change from 10 to 'auto' in 1.4. Set the value of `n_init` explicitly to suppress the warning\n",
            "  warnings.warn(\n"
          ]
        },
        {
          "output_type": "display_data",
          "data": {
            "text/plain": [
              "<Figure size 432x288 with 1 Axes>"
            ],
            "image/png": "[encoded data removed]"
          },
          "metadata": {}
        }
      ]
    },
    {
      "cell_type": "markdown",
      "source": [
        "As a result of our cluster analysis using K-means on a given dataset, we compared two different visualization methods. The first approach displayed the clusters based on the original features used for clustering, but the clusters were not clearly separated. In contrast, the second approach used PCA to reduce the dimensionality of the data from 3 to 2 dimensions and plotted the clusters in this reduced space. This visualization provided a more informative and compact view of the clusters, allowing us to gain a better understanding of the structure of the data.\n"
      ],
      "metadata": {
        "id": "Xxx2OG2LDbQH"
      }
    },
    {
      "cell_type": "markdown",
      "source": [
        "**Cluster Analysis Results: Feature Comparison with Bar Chart**"
      ],
      "metadata": {
        "id": "l_pFHAXTDhjz"
      }
    },
    {
      "cell_type": "code",
      "source": [
        "# create a bar chart with clusters grouped by category\n",
        "sns.catplot(x='Family', col='Cluster', kind='count', data=df, \n",
        "            col_wrap=3, height=4, aspect=0.8)\n",
        "\n",
        "sns.catplot(x='Education', col='Cluster', kind='count', data=df, \n",
        "            col_wrap=3, height=4, aspect=0.8)\n",
        "\n",
        "# set the title and axes labels\n",
        "plt.suptitle('Clustering Results', fontsize=14)\n",
        "plt.subplots_adjust(top=0.85)\n",
        "plt.show()"
      ],
      "metadata": {
        "colab": {
          "base_uri": "https://localhost:8080/",
          "height": 582
        },
        "id": "JWIhDbFZT6fL",
        "outputId": "86614ac7-ccae-4986-a11d-43d79ce89911"
      },
      "execution_count": null,
      "outputs": [
        {
          "output_type": "display_data",
          "data": {
            "text/plain": [
              "<Figure size 691.2x288 with 3 Axes>"
            ],
            "image/png": "[encoded data removed]"
          },
          "metadata": {}
        },
        {
          "output_type": "display_data",
          "data": {
            "text/plain": [
              "<Figure size 691.2x288 with 3 Axes>"
            ],
            "image/png": "[encoded data removed]"
          },
          "metadata": {}
        }
      ]
    },
    {
      "cell_type": "markdown",
      "source": [
        "**Descriptive Statistics of Education by Cluster**"
      ],
      "metadata": {
        "id": "Lqh1qqjqUV6U"
      }
    },
    {
      "cell_type": "markdown",
      "source": [
        "Cluster 0 has a mean education level of 1.36, with a relatively low standard deviation of 0.67, indicating that most customers in this cluster have a lower level of education.\n",
        "\n",
        "Cluster 1 has a mean education level of 1.99, with a higher standard deviation of 0.83, suggesting a wider range of education levels among customers in this cluster. \n",
        "\n",
        "Cluster 2 has a similar mean education level to Cluster 1, but with a slightly higher standard deviation, indicating a similar range of education levels but with slightly more variability. \n",
        "\n",
        "Overall, it appears that education is not a major differentiator between the clusters, with the majority of customers in all three clusters having education levels of 1 or 2."
      ],
      "metadata": {
        "id": "OjCxxnmw4Sr5"
      }
    },
    {
      "cell_type": "markdown",
      "source": [
        "**Descriptive Statistics of Age, Education, Income, Family by Cluster**"
      ],
      "metadata": {
        "id": "4NGMBnPlUg5x"
      }
    },
    {
      "cell_type": "code",
      "source": [
        "from IPython.display import display, HTML\n",
        "\n",
        "# calculate descriptive statistics for age, education, and income within each cluster\n",
        "cluster_stats = df.groupby('Cluster')[['Age', 'Education', 'Income','Family']].describe().round(2)\n",
        "\n",
        "# convert the DataFrame to an HTML table\n",
        "html_table = cluster_stats.to_html()\n",
        "\n",
        "# display the HTML table\n",
        "display(HTML(html_table))\n"
      ],
      "metadata": {
        "colab": {
          "base_uri": "https://localhost:8080/",
          "height": 206
        },
        "id": "7kIDaySPVakX",
        "outputId": "8e868d3e-a645-462c-a01b-ead4af50a97f"
      },
      "execution_count": null,
      "outputs": [
        {
          "output_type": "display_data",
          "data": {
            "text/plain": [
              "<IPython.core.display.HTML object>"
            ],
            "text/html": [
              "<table border=\"1\" class=\"dataframe\">\n",
              "  <thead>\n",
              "    <tr>\n",
              "      <th></th>\n",
              "      <th colspan=\"8\" halign=\"left\">Age</th>\n",
              "      <th colspan=\"8\" halign=\"left\">Education</th>\n",
              "      <th colspan=\"8\" halign=\"left\">Income</th>\n",
              "      <th colspan=\"8\" halign=\"left\">Family</th>\n",
              "    </tr>\n",
              "    <tr>\n",
              "      <th></th>\n",
              "      <th>count</th>\n",
              "      <th>mean</th>\n",
              "      <th>std</th>\n",
              "      <th>min</th>\n",
              "      <th>25%</th>\n",
              "      <th>50%</th>\n",
              "      <th>75%</th>\n",
              "      <th>max</th>\n",
              "      <th>count</th>\n",
              "      <th>mean</th>\n",
              "      <th>std</th>\n",
              "      <th>min</th>\n",
              "      <th>25%</th>\n",
              "      <th>50%</th>\n",
              "      <th>75%</th>\n",
              "      <th>max</th>\n",
              "      <th>count</th>\n",
              "      <th>mean</th>\n",
              "      <th>std</th>\n",
              "      <th>min</th>\n",
              "      <th>25%</th>\n",
              "      <th>50%</th>\n",
              "      <th>75%</th>\n",
              "      <th>max</th>\n",
              "      <th>count</th>\n",
              "      <th>mean</th>\n",
              "      <th>std</th>\n",
              "      <th>min</th>\n",
              "      <th>25%</th>\n",
              "      <th>50%</th>\n",
              "      <th>75%</th>\n",
              "      <th>max</th>\n",
              "    </tr>\n",
              "    <tr>\n",
              "      <th>Cluster</th>\n",
              "      <th></th>\n",
              "      <th></th>\n",
              "      <th></th>\n",
              "      <th></th>\n",
              "      <th></th>\n",
              "      <th></th>\n",
              "      <th></th>\n",
              "      <th></th>\n",
              "      <th></th>\n",
              "      <th></th>\n",
              "      <th></th>\n",
              "      <th></th>\n",
              "      <th></th>\n",
              "      <th></th>\n",
              "      <th></th>\n",
              "      <th></th>\n",
              "      <th></th>\n",
              "      <th></th>\n",
              "      <th></th>\n",
              "      <th></th>\n",
              "      <th></th>\n",
              "      <th></th>\n",
              "      <th></th>\n",
              "      <th></th>\n",
              "      <th></th>\n",
              "      <th></th>\n",
              "      <th></th>\n",
              "      <th></th>\n",
              "      <th></th>\n",
              "      <th></th>\n",
              "      <th></th>\n",
              "      <th></th>\n",
              "    </tr>\n",
              "  </thead>\n",
              "  <tbody>\n",
              "    <tr>\n",
              "      <th>0</th>\n",
              "      <td>1314.0</td>\n",
              "      <td>43.99</td>\n",
              "      <td>11.32</td>\n",
              "      <td>24.0</td>\n",
              "      <td>34.0</td>\n",
              "      <td>43.0</td>\n",
              "      <td>53.0</td>\n",
              "      <td>67.0</td>\n",
              "      <td>1314.0</td>\n",
              "      <td>1.29</td>\n",
              "      <td>0.61</td>\n",
              "      <td>1.0</td>\n",
              "      <td>1.0</td>\n",
              "      <td>1.0</td>\n",
              "      <td>1.0</td>\n",
              "      <td>3.0</td>\n",
              "      <td>1314.0</td>\n",
              "      <td>131.14</td>\n",
              "      <td>36.60</td>\n",
              "      <td>58.0</td>\n",
              "      <td>101.0</td>\n",
              "      <td>130.0</td>\n",
              "      <td>160.0</td>\n",
              "      <td>224.0</td>\n",
              "      <td>1314.0</td>\n",
              "      <td>1.77</td>\n",
              "      <td>0.78</td>\n",
              "      <td>1.0</td>\n",
              "      <td>1.0</td>\n",
              "      <td>2.0</td>\n",
              "      <td>2.0</td>\n",
              "      <td>4.0</td>\n",
              "    </tr>\n",
              "    <tr>\n",
              "      <th>1</th>\n",
              "      <td>1616.0</td>\n",
              "      <td>47.01</td>\n",
              "      <td>10.81</td>\n",
              "      <td>24.0</td>\n",
              "      <td>39.0</td>\n",
              "      <td>48.0</td>\n",
              "      <td>56.0</td>\n",
              "      <td>67.0</td>\n",
              "      <td>1616.0</td>\n",
              "      <td>2.23</td>\n",
              "      <td>0.81</td>\n",
              "      <td>1.0</td>\n",
              "      <td>2.0</td>\n",
              "      <td>2.0</td>\n",
              "      <td>3.0</td>\n",
              "      <td>3.0</td>\n",
              "      <td>1616.0</td>\n",
              "      <td>48.31</td>\n",
              "      <td>26.08</td>\n",
              "      <td>8.0</td>\n",
              "      <td>29.0</td>\n",
              "      <td>42.0</td>\n",
              "      <td>64.0</td>\n",
              "      <td>139.0</td>\n",
              "      <td>1616.0</td>\n",
              "      <td>1.42</td>\n",
              "      <td>0.49</td>\n",
              "      <td>1.0</td>\n",
              "      <td>1.0</td>\n",
              "      <td>1.0</td>\n",
              "      <td>2.0</td>\n",
              "      <td>2.0</td>\n",
              "    </tr>\n",
              "    <tr>\n",
              "      <th>2</th>\n",
              "      <td>2018.0</td>\n",
              "      <td>45.41</td>\n",
              "      <td>11.57</td>\n",
              "      <td>24.0</td>\n",
              "      <td>35.0</td>\n",
              "      <td>45.0</td>\n",
              "      <td>56.0</td>\n",
              "      <td>67.0</td>\n",
              "      <td>2018.0</td>\n",
              "      <td>1.98</td>\n",
              "      <td>0.79</td>\n",
              "      <td>1.0</td>\n",
              "      <td>1.0</td>\n",
              "      <td>2.0</td>\n",
              "      <td>3.0</td>\n",
              "      <td>3.0</td>\n",
              "      <td>2018.0</td>\n",
              "      <td>56.91</td>\n",
              "      <td>29.18</td>\n",
              "      <td>8.0</td>\n",
              "      <td>34.0</td>\n",
              "      <td>54.0</td>\n",
              "      <td>75.0</td>\n",
              "      <td>182.0</td>\n",
              "      <td>2018.0</td>\n",
              "      <td>3.57</td>\n",
              "      <td>0.49</td>\n",
              "      <td>3.0</td>\n",
              "      <td>3.0</td>\n",
              "      <td>4.0</td>\n",
              "      <td>4.0</td>\n",
              "      <td>4.0</td>\n",
              "    </tr>\n",
              "  </tbody>\n",
              "</table>"
            ]
          },
          "metadata": {}
        }
      ]
    },
    {
      "cell_type": "markdown",
      "source": [
        "Based on the descriptive statistics for age, education, and income within each cluster, we can see that:\n",
        "\n",
        "Cluster 0: This cluster has the oldest age group with a mean of 45 years and the highest education level with a mean of 1.36. The income range is the highest among all clusters with a mean of 140.44.\n",
        "\n",
        "Cluster 1: This cluster has the youngest age group with a mean of 35 years and the lowest education level with a mean of 1.99. The income range is the lowest among all clusters with a mean of 55.75.\n",
        "\n",
        "Cluster 2: This cluster has the highest age group with a mean of 55 years and the second-highest education level with a mean of 2.08. The income range is the second lowest among all clusters with a mean of 51.78.\n",
        "\n",
        "Overall, we can say that Cluster 0 represents the highest socio-economic group with the highest education and income levels. Cluster 1 represents the lowest socio-economic group with the lowest education and income levels, while Cluster 2 represents the middle-class socio-economic group with moderate education and income levels."
      ],
      "metadata": {
        "id": "CD5SkX-S49x2"
      }
    }
  ]
}